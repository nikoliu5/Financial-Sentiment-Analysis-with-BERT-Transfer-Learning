{
 "cells": [
  {
   "cell_type": "markdown",
   "metadata": {},
   "source": [
    "# Financial Sentiment Analysis with BERT Transfer Learning\n",
    "**By Niko Liu**"
   ]
  },
  {
   "cell_type": "markdown",
   "metadata": {},
   "source": [
    "Install all required packages"
   ]
  },
  {
   "cell_type": "markdown",
   "metadata": {},
   "source": [
    "Warning: This notebook may require a GPU with memory(VRAM) >= 16GB, preferably >= 32GB to run. Otherwise, resource exhausted error may arise."
   ]
  },
  {
   "cell_type": "code",
   "execution_count": 1,
   "metadata": {},
   "outputs": [
    {
     "name": "stdout",
     "output_type": "stream",
     "text": [
      "Requirement already satisfied: pandas in /scratch/jl8831/miniconda3/envs/vip/lib/python3.8/site-packages (from -r requirements.txt (line 1)) (1.3.5)\n",
      "Requirement already satisfied: matplotlib in /scratch/jl8831/pkg_link/site-packages (from -r requirements.txt (line 2)) (3.1.3)\n",
      "Requirement already satisfied: transformers in /scratch/jl8831/miniconda3/envs/vip/lib/python3.8/site-packages (from -r requirements.txt (line 3)) (4.28.1)\n",
      "Requirement already satisfied: datasets in /scratch/jl8831/miniconda3/envs/vip/lib/python3.8/site-packages (from -r requirements.txt (line 4)) (2.12.0)\n",
      "Requirement already satisfied: evaluate in /scratch/jl8831/miniconda3/envs/vip/lib/python3.8/site-packages (from -r requirements.txt (line 5)) (0.4.0)\n",
      "Requirement already satisfied: seaborn in /scratch/jl8831/miniconda3/envs/vip/lib/python3.8/site-packages (from -r requirements.txt (line 6)) (0.12.2)\n",
      "Requirement already satisfied: pynvml in /scratch/jl8831/miniconda3/envs/vip/lib/python3.8/site-packages (from -r requirements.txt (line 7)) (11.5.0)\n",
      "Requirement already satisfied: scipy in /scratch/jl8831/pkg_link/site-packages (from -r requirements.txt (line 8)) (1.7.0)\n",
      "Requirement already satisfied: scikit-learn in /scratch/jl8831/pkg_link/site-packages (from -r requirements.txt (line 9)) (1.2.2)\n",
      "Requirement already satisfied: tabulate in /scratch/jl8831/miniconda3/envs/vip/lib/python3.8/site-packages (from -r requirements.txt (line 10)) (0.9.0)\n",
      "Requirement already satisfied: imblearn in /scratch/jl8831/miniconda3/envs/vip/lib/python3.8/site-packages (from -r requirements.txt (line 11)) (0.0)\n",
      "Requirement already satisfied: tensorflow in /scratch/jl8831/pkg_link/site-packages (from -r requirements.txt (line 12)) (2.12.0)\n",
      "Requirement already satisfied: tensorflow_datasets in /scratch/jl8831/miniconda3/envs/vip/lib/python3.8/site-packages (from -r requirements.txt (line 13)) (4.9.2)\n",
      "Requirement already satisfied: python-dateutil>=2.7.3 in /scratch/jl8831/miniconda3/envs/vip/lib/python3.8/site-packages (from pandas->-r requirements.txt (line 1)) (2.8.2)\n",
      "Requirement already satisfied: pytz>=2017.3 in /scratch/jl8831/miniconda3/envs/vip/lib/python3.8/site-packages (from pandas->-r requirements.txt (line 1)) (2023.3)\n",
      "Requirement already satisfied: numpy>=1.17.3 in /scratch/jl8831/miniconda3/envs/vip/lib/python3.8/site-packages (from pandas->-r requirements.txt (line 1)) (1.22.4)\n",
      "Requirement already satisfied: cycler>=0.10 in /scratch/jl8831/miniconda3/envs/vip/lib/python3.8/site-packages (from matplotlib->-r requirements.txt (line 2)) (0.11.0)\n",
      "Requirement already satisfied: kiwisolver>=1.0.1 in /scratch/jl8831/miniconda3/envs/vip/lib/python3.8/site-packages (from matplotlib->-r requirements.txt (line 2)) (1.4.4)\n",
      "Requirement already satisfied: pyparsing!=2.0.4,!=2.1.2,!=2.1.6,>=2.0.1 in /scratch/jl8831/miniconda3/envs/vip/lib/python3.8/site-packages (from matplotlib->-r requirements.txt (line 2)) (3.0.9)\n",
      "Requirement already satisfied: filelock in /scratch/jl8831/miniconda3/envs/vip/lib/python3.8/site-packages (from transformers->-r requirements.txt (line 3)) (3.12.0)\n",
      "Requirement already satisfied: huggingface-hub<1.0,>=0.11.0 in /scratch/jl8831/miniconda3/envs/vip/lib/python3.8/site-packages (from transformers->-r requirements.txt (line 3)) (0.14.1)\n",
      "Requirement already satisfied: packaging>=20.0 in /scratch/jl8831/miniconda3/envs/vip/lib/python3.8/site-packages (from transformers->-r requirements.txt (line 3)) (23.0)\n",
      "Requirement already satisfied: pyyaml>=5.1 in /scratch/jl8831/miniconda3/envs/vip/lib/python3.8/site-packages (from transformers->-r requirements.txt (line 3)) (6.0)\n",
      "Requirement already satisfied: regex!=2019.12.17 in /scratch/jl8831/pkg_link/site-packages (from transformers->-r requirements.txt (line 3)) (2023.3.23)\n",
      "Requirement already satisfied: requests in /scratch/jl8831/miniconda3/envs/vip/lib/python3.8/site-packages (from transformers->-r requirements.txt (line 3)) (2.28.2)\n",
      "Requirement already satisfied: tokenizers!=0.11.3,<0.14,>=0.11.1 in /scratch/jl8831/miniconda3/envs/vip/lib/python3.8/site-packages (from transformers->-r requirements.txt (line 3)) (0.13.3)\n",
      "Requirement already satisfied: tqdm>=4.27 in /scratch/jl8831/pkg_link/site-packages (from transformers->-r requirements.txt (line 3)) (4.65.0)\n",
      "Requirement already satisfied: pyarrow>=8.0.0 in /scratch/jl8831/miniconda3/envs/vip/lib/python3.8/site-packages (from datasets->-r requirements.txt (line 4)) (11.0.0)\n",
      "Requirement already satisfied: dill<0.3.7,>=0.3.0 in /scratch/jl8831/miniconda3/envs/vip/lib/python3.8/site-packages (from datasets->-r requirements.txt (line 4)) (0.3.6)\n",
      "Requirement already satisfied: xxhash in /scratch/jl8831/miniconda3/envs/vip/lib/python3.8/site-packages (from datasets->-r requirements.txt (line 4)) (3.2.0)\n",
      "Requirement already satisfied: multiprocess in /scratch/jl8831/miniconda3/envs/vip/lib/python3.8/site-packages (from datasets->-r requirements.txt (line 4)) (0.70.14)\n",
      "Requirement already satisfied: fsspec[http]>=2021.11.1 in /scratch/jl8831/miniconda3/envs/vip/lib/python3.8/site-packages (from datasets->-r requirements.txt (line 4)) (2023.4.0)\n",
      "Requirement already satisfied: aiohttp in /scratch/jl8831/miniconda3/envs/vip/lib/python3.8/site-packages (from datasets->-r requirements.txt (line 4)) (3.8.4)\n",
      "Requirement already satisfied: responses<0.19 in /scratch/jl8831/miniconda3/envs/vip/lib/python3.8/site-packages (from datasets->-r requirements.txt (line 4)) (0.18.0)\n",
      "Requirement already satisfied: joblib>=1.1.1 in /scratch/jl8831/pkg_link/site-packages (from scikit-learn->-r requirements.txt (line 9)) (1.2.0)\n",
      "Requirement already satisfied: threadpoolctl>=2.0.0 in /scratch/jl8831/pkg_link/site-packages (from scikit-learn->-r requirements.txt (line 9)) (3.1.0)\n",
      "Requirement already satisfied: imbalanced-learn in /scratch/jl8831/miniconda3/envs/vip/lib/python3.8/site-packages (from imblearn->-r requirements.txt (line 11)) (0.10.1)\n",
      "Requirement already satisfied: absl-py>=1.0.0 in /scratch/jl8831/pkg_link/site-packages (from tensorflow->-r requirements.txt (line 12)) (1.4.0)\n",
      "Requirement already satisfied: astunparse>=1.6.0 in /scratch/jl8831/pkg_link/site-packages (from tensorflow->-r requirements.txt (line 12)) (1.6.3)\n",
      "Requirement already satisfied: flatbuffers>=2.0 in /scratch/jl8831/pkg_link/site-packages (from tensorflow->-r requirements.txt (line 12)) (23.3.3)\n",
      "Requirement already satisfied: gast<=0.4.0,>=0.2.1 in /scratch/jl8831/pkg_link/site-packages (from tensorflow->-r requirements.txt (line 12)) (0.3.3)\n",
      "Requirement already satisfied: google-pasta>=0.1.1 in /scratch/jl8831/pkg_link/site-packages (from tensorflow->-r requirements.txt (line 12)) (0.2.0)\n",
      "Requirement already satisfied: grpcio<2.0,>=1.24.3 in /scratch/jl8831/miniconda3/envs/vip/lib/python3.8/site-packages (from tensorflow->-r requirements.txt (line 12)) (1.54.0)\n",
      "Requirement already satisfied: h5py>=2.9.0 in /scratch/jl8831/pkg_link/site-packages (from tensorflow->-r requirements.txt (line 12)) (2.10.0)\n",
      "Requirement already satisfied: jax>=0.3.15 in /scratch/jl8831/pkg_link/site-packages (from tensorflow->-r requirements.txt (line 12)) (0.4.8)\n",
      "Requirement already satisfied: keras<2.13,>=2.12.0 in /scratch/jl8831/pkg_link/site-packages (from tensorflow->-r requirements.txt (line 12)) (2.12.0)\n",
      "Requirement already satisfied: libclang>=13.0.0 in /scratch/jl8831/pkg_link/site-packages (from tensorflow->-r requirements.txt (line 12)) (16.0.0)\n",
      "Requirement already satisfied: opt-einsum>=2.3.2 in /scratch/jl8831/pkg_link/site-packages (from tensorflow->-r requirements.txt (line 12)) (3.3.0)\n",
      "Requirement already satisfied: protobuf!=4.21.0,!=4.21.1,!=4.21.2,!=4.21.3,!=4.21.4,!=4.21.5,<5.0.0dev,>=3.20.3 in /scratch/jl8831/pkg_link/site-packages (from tensorflow->-r requirements.txt (line 12)) (4.22.3)\n",
      "Requirement already satisfied: setuptools in /scratch/jl8831/miniconda3/envs/vip/lib/python3.8/site-packages (from tensorflow->-r requirements.txt (line 12)) (65.6.3)\n",
      "Requirement already satisfied: six>=1.12.0 in /scratch/jl8831/miniconda3/envs/vip/lib/python3.8/site-packages (from tensorflow->-r requirements.txt (line 12)) (1.16.0)\n",
      "Requirement already satisfied: tensorboard<2.13,>=2.12 in /scratch/jl8831/pkg_link/site-packages (from tensorflow->-r requirements.txt (line 12)) (2.12.1)\n",
      "Requirement already satisfied: tensorflow-estimator<2.13,>=2.12.0 in /scratch/jl8831/pkg_link/site-packages (from tensorflow->-r requirements.txt (line 12)) (2.12.0)\n",
      "Requirement already satisfied: termcolor>=1.1.0 in /scratch/jl8831/pkg_link/site-packages (from tensorflow->-r requirements.txt (line 12)) (1.1.0)\n",
      "Requirement already satisfied: typing-extensions>=3.6.6 in /scratch/jl8831/pkg_link/site-packages (from tensorflow->-r requirements.txt (line 12)) (3.7.4.3)\n",
      "Requirement already satisfied: wrapt<1.15,>=1.11.0 in /scratch/jl8831/pkg_link/site-packages (from tensorflow->-r requirements.txt (line 12)) (1.12.1)\n",
      "Requirement already satisfied: tensorflow-io-gcs-filesystem>=0.23.1 in /scratch/jl8831/pkg_link/site-packages (from tensorflow->-r requirements.txt (line 12)) (0.32.0)\n",
      "Requirement already satisfied: array-record in /scratch/jl8831/miniconda3/envs/vip/lib/python3.8/site-packages (from tensorflow_datasets->-r requirements.txt (line 13)) (0.2.0)\n",
      "Requirement already satisfied: click in /scratch/jl8831/pkg_link/site-packages (from tensorflow_datasets->-r requirements.txt (line 13)) (8.1.3)\n",
      "Requirement already satisfied: dm-tree in /scratch/jl8831/miniconda3/envs/vip/lib/python3.8/site-packages (from tensorflow_datasets->-r requirements.txt (line 13)) (0.1.8)\n",
      "Requirement already satisfied: etils[enp,epath]>=0.9.0 in /scratch/jl8831/miniconda3/envs/vip/lib/python3.8/site-packages (from tensorflow_datasets->-r requirements.txt (line 13)) (1.2.0)\n",
      "Requirement already satisfied: promise in /scratch/jl8831/miniconda3/envs/vip/lib/python3.8/site-packages (from tensorflow_datasets->-r requirements.txt (line 13)) (2.3)\n",
      "Requirement already satisfied: psutil in /scratch/jl8831/miniconda3/envs/vip/lib/python3.8/site-packages (from tensorflow_datasets->-r requirements.txt (line 13)) (5.9.4)\n",
      "Requirement already satisfied: tensorflow-metadata in /scratch/jl8831/miniconda3/envs/vip/lib/python3.8/site-packages (from tensorflow_datasets->-r requirements.txt (line 13)) (1.13.1)\n",
      "Requirement already satisfied: toml in /scratch/jl8831/miniconda3/envs/vip/lib/python3.8/site-packages (from tensorflow_datasets->-r requirements.txt (line 13)) (0.10.2)\n",
      "Requirement already satisfied: importlib-resources in /scratch/jl8831/miniconda3/envs/vip/lib/python3.8/site-packages (from tensorflow_datasets->-r requirements.txt (line 13)) (5.12.0)\n",
      "Requirement already satisfied: wheel<1.0,>=0.23.0 in /scratch/jl8831/miniconda3/envs/vip/lib/python3.8/site-packages (from astunparse>=1.6.0->tensorflow->-r requirements.txt (line 12)) (0.38.4)\n",
      "Requirement already satisfied: zipp in /scratch/jl8831/pkg_link/site-packages (from etils[enp,epath]>=0.9.0->tensorflow_datasets->-r requirements.txt (line 13)) (3.15.0)\n",
      "Requirement already satisfied: attrs>=17.3.0 in /scratch/jl8831/miniconda3/envs/vip/lib/python3.8/site-packages (from aiohttp->datasets->-r requirements.txt (line 4)) (22.2.0)\n",
      "Requirement already satisfied: charset-normalizer<4.0,>=2.0 in /scratch/jl8831/miniconda3/envs/vip/lib/python3.8/site-packages (from aiohttp->datasets->-r requirements.txt (line 4)) (3.1.0)\n",
      "Requirement already satisfied: multidict<7.0,>=4.5 in /scratch/jl8831/miniconda3/envs/vip/lib/python3.8/site-packages (from aiohttp->datasets->-r requirements.txt (line 4)) (6.0.4)\n",
      "Requirement already satisfied: async-timeout<5.0,>=4.0.0a3 in /scratch/jl8831/miniconda3/envs/vip/lib/python3.8/site-packages (from aiohttp->datasets->-r requirements.txt (line 4)) (4.0.2)\n",
      "Requirement already satisfied: yarl<2.0,>=1.0 in /scratch/jl8831/miniconda3/envs/vip/lib/python3.8/site-packages (from aiohttp->datasets->-r requirements.txt (line 4)) (1.9.2)\n",
      "Requirement already satisfied: frozenlist>=1.1.1 in /scratch/jl8831/miniconda3/envs/vip/lib/python3.8/site-packages (from aiohttp->datasets->-r requirements.txt (line 4)) (1.3.3)\n",
      "Requirement already satisfied: aiosignal>=1.1.2 in /scratch/jl8831/miniconda3/envs/vip/lib/python3.8/site-packages (from aiohttp->datasets->-r requirements.txt (line 4)) (1.3.1)\n",
      "Requirement already satisfied: ml-dtypes>=0.0.3 in /scratch/jl8831/pkg_link/site-packages (from jax>=0.3.15->tensorflow->-r requirements.txt (line 12)) (0.0.4)\n",
      "Requirement already satisfied: idna<4,>=2.5 in /scratch/jl8831/miniconda3/envs/vip/lib/python3.8/site-packages (from requests->transformers->-r requirements.txt (line 3)) (3.4)\n",
      "Requirement already satisfied: urllib3<1.27,>=1.21.1 in /scratch/jl8831/miniconda3/envs/vip/lib/python3.8/site-packages (from requests->transformers->-r requirements.txt (line 3)) (1.26.15)\n",
      "Requirement already satisfied: certifi>=2017.4.17 in /scratch/jl8831/miniconda3/envs/vip/lib/python3.8/site-packages (from requests->transformers->-r requirements.txt (line 3)) (2022.12.7)\n",
      "Requirement already satisfied: google-auth<3,>=1.6.3 in /scratch/jl8831/pkg_link/site-packages (from tensorboard<2.13,>=2.12->tensorflow->-r requirements.txt (line 12)) (2.17.2)\n",
      "Requirement already satisfied: google-auth-oauthlib<1.1,>=0.5 in /scratch/jl8831/pkg_link/site-packages (from tensorboard<2.13,>=2.12->tensorflow->-r requirements.txt (line 12)) (1.0.0)\n",
      "Requirement already satisfied: markdown>=2.6.8 in /scratch/jl8831/pkg_link/site-packages (from tensorboard<2.13,>=2.12->tensorflow->-r requirements.txt (line 12)) (3.4.3)\n",
      "Requirement already satisfied: tensorboard-data-server<0.8.0,>=0.7.0 in /scratch/jl8831/pkg_link/site-packages (from tensorboard<2.13,>=2.12->tensorflow->-r requirements.txt (line 12)) (0.7.0)\n",
      "Requirement already satisfied: tensorboard-plugin-wit>=1.6.0 in /scratch/jl8831/pkg_link/site-packages (from tensorboard<2.13,>=2.12->tensorflow->-r requirements.txt (line 12)) (1.8.1)\n",
      "Requirement already satisfied: werkzeug>=1.0.1 in /scratch/jl8831/pkg_link/site-packages (from tensorboard<2.13,>=2.12->tensorflow->-r requirements.txt (line 12)) (2.2.3)\n",
      "Requirement already satisfied: googleapis-common-protos<2,>=1.52.0 in /scratch/jl8831/miniconda3/envs/vip/lib/python3.8/site-packages (from tensorflow-metadata->tensorflow_datasets->-r requirements.txt (line 13)) (1.59.0)\n",
      "Requirement already satisfied: cachetools<6.0,>=2.0.0 in /scratch/jl8831/pkg_link/site-packages (from google-auth<3,>=1.6.3->tensorboard<2.13,>=2.12->tensorflow->-r requirements.txt (line 12)) (5.3.0)\n",
      "Requirement already satisfied: pyasn1-modules>=0.2.1 in /scratch/jl8831/pkg_link/site-packages (from google-auth<3,>=1.6.3->tensorboard<2.13,>=2.12->tensorflow->-r requirements.txt (line 12)) (0.2.8)\n",
      "Requirement already satisfied: rsa<5,>=3.1.4 in /scratch/jl8831/pkg_link/site-packages (from google-auth<3,>=1.6.3->tensorboard<2.13,>=2.12->tensorflow->-r requirements.txt (line 12)) (4.9)\n",
      "Requirement already satisfied: requests-oauthlib>=0.7.0 in /scratch/jl8831/pkg_link/site-packages (from google-auth-oauthlib<1.1,>=0.5->tensorboard<2.13,>=2.12->tensorflow->-r requirements.txt (line 12)) (1.3.1)\n",
      "Requirement already satisfied: importlib-metadata>=4.4 in /scratch/jl8831/pkg_link/site-packages (from markdown>=2.6.8->tensorboard<2.13,>=2.12->tensorflow->-r requirements.txt (line 12)) (6.1.0)\n",
      "Requirement already satisfied: MarkupSafe>=2.1.1 in /scratch/jl8831/pkg_link/site-packages (from werkzeug>=1.0.1->tensorboard<2.13,>=2.12->tensorflow->-r requirements.txt (line 12)) (2.1.2)\n",
      "Requirement already satisfied: pyasn1<0.5.0,>=0.4.6 in /scratch/jl8831/pkg_link/site-packages (from pyasn1-modules>=0.2.1->google-auth<3,>=1.6.3->tensorboard<2.13,>=2.12->tensorflow->-r requirements.txt (line 12)) (0.4.8)\n",
      "Requirement already satisfied: oauthlib>=3.0.0 in /scratch/jl8831/miniconda3/envs/vip/lib/python3.8/site-packages (from requests-oauthlib>=0.7.0->google-auth-oauthlib<1.1,>=0.5->tensorboard<2.13,>=2.12->tensorflow->-r requirements.txt (line 12)) (3.2.2)\n",
      "\n",
      "\u001b[1m[\u001b[0m\u001b[34;49mnotice\u001b[0m\u001b[1;39;49m]\u001b[0m\u001b[39;49m A new release of pip is available: \u001b[0m\u001b[31;49m23.1.1\u001b[0m\u001b[39;49m -> \u001b[0m\u001b[32;49m23.1.2\u001b[0m\n",
      "\u001b[1m[\u001b[0m\u001b[34;49mnotice\u001b[0m\u001b[1;39;49m]\u001b[0m\u001b[39;49m To update, run: \u001b[0m\u001b[32;49mpip install --upgrade pip\u001b[0m\n"
     ]
    }
   ],
   "source": [
    "#Install all required packages\n",
    "!pip install -r requirements.txt"
   ]
  },
  {
   "cell_type": "code",
   "execution_count": 2,
   "metadata": {},
   "outputs": [
    {
     "name": "stderr",
     "output_type": "stream",
     "text": [
      "2023-05-08 04:02:07.769725: I tensorflow/core/util/port.cc:110] oneDNN custom operations are on. You may see slightly different numerical results due to floating-point round-off errors from different computation orders. To turn them off, set the environment variable `TF_ENABLE_ONEDNN_OPTS=0`.\n",
      "2023-05-08 04:02:07.834703: I tensorflow/core/platform/cpu_feature_guard.cc:182] This TensorFlow binary is optimized to use available CPU instructions in performance-critical operations.\n",
      "To enable the following instructions: AVX2 AVX512F AVX512_VNNI FMA, in other operations, rebuild TensorFlow with the appropriate compiler flags.\n",
      "2023-05-08 04:02:11.169025: W tensorflow/compiler/tf2tensorrt/utils/py_utils.cc:38] TF-TRT Warning: Could not find TensorRT\n"
     ]
    }
   ],
   "source": [
    "# Import necessary libraries\n",
    "import tensorflow as tf\n",
    "import numpy as np\n",
    "import pandas as pd\n",
    "import matplotlib.pyplot as plt\n",
    "import transformers\n",
    "import datasets\n",
    "import evaluate\n",
    "from evaluate import evaluator\n",
    "from transformers import AutoTokenizer, TFAutoModelForSequenceClassification, DistilBertConfig, DistilBertTokenizerFast, TFDistilBertModel, BertTokenizerFast, TFBertModel\n",
    "from datasets import load_dataset\n",
    "import random\n",
    "import seaborn as sns\n",
    "from pynvml import *\n",
    "import scipy\n",
    "from tensorflow.keras.callbacks import EarlyStopping\n",
    "from sklearn.metrics import accuracy_score, precision_score, recall_score, f1_score, roc_auc_score, roc_curve, auc, confusion_matrix\n",
    "from tabulate import tabulate\n",
    "from sklearn.preprocessing import LabelBinarizer\n",
    "from tensorflow.keras import layers\n",
    "from tensorflow import keras\n",
    "# import tensorflow_datasets as tfds\n",
    "from imblearn.over_sampling import SMOTE, RandomOverSampler\n",
    "from imblearn.under_sampling import RandomUnderSampler\n",
    "from tensorflow.keras.losses import SparseCategoricalCrossentropy\n",
    "from tensorflow.keras.optimizers.schedules import PolynomialDecay\n",
    "from tensorflow.keras.optimizers import Adam\n",
    "\n",
    "random.seed(5)\n",
    "seed = 5\n",
    "%matplotlib inline"
   ]
  },
  {
   "cell_type": "markdown",
   "metadata": {},
   "source": [
    "Check if GPU is running"
   ]
  },
  {
   "cell_type": "code",
   "execution_count": 3,
   "metadata": {},
   "outputs": [
    {
     "name": "stdout",
     "output_type": "stream",
     "text": [
      "GPU is available\n",
      "GPU(s) details:\n",
      "PhysicalDevice(name='/physical_device:GPU:0', device_type='GPU')\n"
     ]
    }
   ],
   "source": [
    "if tf.config.list_physical_devices('GPU'):\n",
    "    print(\"GPU is available\")\n",
    "    print(\"GPU(s) details:\")\n",
    "    for gpu in tf.config.list_physical_devices('GPU'):\n",
    "        print(gpu)\n",
    "else:\n",
    "    print(\"GPU is not available\")"
   ]
  },
  {
   "cell_type": "markdown",
   "metadata": {},
   "source": [
    "Define function to track GPU utilization in later stage"
   ]
  },
  {
   "cell_type": "code",
   "execution_count": 4,
   "metadata": {},
   "outputs": [],
   "source": [
    "def print_gpu_utilization():\n",
    "    nvmlInit()\n",
    "    handle = nvmlDeviceGetHandleByIndex(0)\n",
    "    info = nvmlDeviceGetMemoryInfo(handle)\n",
    "    print(f\"GPU memory occupied: {info.used//1024**2} MB.\")"
   ]
  },
  {
   "cell_type": "markdown",
   "metadata": {},
   "source": [
    "Check the Tensorflow version"
   ]
  },
  {
   "cell_type": "code",
   "execution_count": 5,
   "metadata": {},
   "outputs": [
    {
     "name": "stdout",
     "output_type": "stream",
     "text": [
      "Running TensorFlow version  2.12.0\n",
      "Version 2, minor 12\n"
     ]
    }
   ],
   "source": [
    "print(\"Running TensorFlow version \",tf.__version__)\n",
    "\n",
    "# Parse tensorflow version\n",
    "import re\n",
    "\n",
    "version_match = re.match(\"([0-9]+)\\.([0-9]+)\", tf.__version__)\n",
    "tf_major, tf_minor = int(version_match.group(1)) , int(version_match.group(2))\n",
    "print(\"Version {v:d}, minor {m:d}\".format(v=tf_major, m=tf_minor) )"
   ]
  },
  {
   "cell_type": "markdown",
   "metadata": {},
   "source": [
    "# Part I - Modelling pipeline"
   ]
  },
  {
   "cell_type": "markdown",
   "metadata": {},
   "source": [
    "# Import HuggingFace dataset"
   ]
  },
  {
   "cell_type": "markdown",
   "metadata": {},
   "source": [
    "## Get the data"
   ]
  },
  {
   "cell_type": "code",
   "execution_count": 6,
   "metadata": {},
   "outputs": [
    {
     "name": "stderr",
     "output_type": "stream",
     "text": [
      "Found cached dataset financial_phrasebank (/home/jl8831/.cache/huggingface/datasets/financial_phrasebank/sentences_allagree/1.0.0/550bde12e6c30e2674da973a55f57edde5181d53f5a5a34c1531c53f93b7e141)\n"
     ]
    },
    {
     "data": {
      "application/vnd.jupyter.widget-view+json": {
       "model_id": "7b0b9f40db624a98a5d37cb351d7927f",
       "version_major": 2,
       "version_minor": 0
      },
      "text/plain": [
       "  0%|          | 0/1 [00:00<?, ?it/s]"
      ]
     },
     "metadata": {},
     "output_type": "display_data"
    }
   ],
   "source": [
    "raw_data = load_dataset(\"financial_phrasebank\", \"sentences_allagree\")"
   ]
  },
  {
   "cell_type": "markdown",
   "metadata": {},
   "source": [
    "## Have a look at the data"
   ]
  },
  {
   "cell_type": "code",
   "execution_count": 7,
   "metadata": {},
   "outputs": [
    {
     "data": {
      "text/plain": [
       "DatasetDict({\n",
       "    train: Dataset({\n",
       "        features: ['sentence', 'label'],\n",
       "        num_rows: 2264\n",
       "    })\n",
       "})"
      ]
     },
     "execution_count": 7,
     "metadata": {},
     "output_type": "execute_result"
    }
   ],
   "source": [
    "raw_data"
   ]
  },
  {
   "cell_type": "code",
   "execution_count": 8,
   "metadata": {},
   "outputs": [
    {
     "data": {
      "text/plain": [
       "{'sentence': 'According to Gran , the company has no plans to move all production to Russia , although that is where the company is growing .',\n",
       " 'label': 1}"
      ]
     },
     "execution_count": 8,
     "metadata": {},
     "output_type": "execute_result"
    }
   ],
   "source": [
    "raw_data[\"train\"][0]"
   ]
  },
  {
   "cell_type": "markdown",
   "metadata": {},
   "source": [
    "## Define Performance Measure\n",
    "\n",
    "For this problem, we will perform NLP task, specifically sentiment analysis on financial phrasebank dataset from hugging face. We will likely measure the model performance by measuring its accuracy score and optionally, precision, recall or F1 score since we will have three class(positive, neutral and negative) dataset. "
   ]
  },
  {
   "cell_type": "markdown",
   "metadata": {},
   "source": [
    "## Create Test Set"
   ]
  },
  {
   "cell_type": "code",
   "execution_count": 9,
   "metadata": {},
   "outputs": [],
   "source": [
    "test_size = 0.2\n",
    "raw_data_split = raw_data['train'].train_test_split(test_size=test_size)\n",
    "train_temp_set = raw_data_split['train']\n",
    "test_set = raw_data_split['test']\n",
    "train_temp_set_split = train_temp_set.train_test_split(test_size=test_size)\n",
    "train_set = train_temp_set_split['train']\n",
    "val_set = train_temp_set_split['test']"
   ]
  },
  {
   "cell_type": "code",
   "execution_count": 10,
   "metadata": {},
   "outputs": [
    {
     "name": "stdout",
     "output_type": "stream",
     "text": [
      "Data in training set: 1448\n",
      "Data in validation set: 363\n",
      "Data in test set: 453\n"
     ]
    }
   ],
   "source": [
    "print(\"Data in training set:\",len(train_set))\n",
    "print(\"Data in validation set:\",len(val_set))\n",
    "print(\"Data in test set:\",len(test_set))"
   ]
  },
  {
   "cell_type": "markdown",
   "metadata": {},
   "source": [
    "# Exploratory Data Analysis"
   ]
  },
  {
   "cell_type": "code",
   "execution_count": 11,
   "metadata": {},
   "outputs": [
    {
     "name": "stdout",
     "output_type": "stream",
     "text": [
      "<class 'pandas.core.frame.DataFrame'>\n",
      "RangeIndex: 1448 entries, 0 to 1447\n",
      "Data columns (total 2 columns):\n",
      " #   Column    Non-Null Count  Dtype \n",
      "---  ------    --------------  ----- \n",
      " 0   sentence  1448 non-null   object\n",
      " 1   label     1448 non-null   int64 \n",
      "dtypes: int64(1), object(1)\n",
      "memory usage: 22.8+ KB\n"
     ]
    }
   ],
   "source": [
    "train_df = train_set.to_pandas()\n",
    "train_df.info()\n",
    "# No null value"
   ]
  },
  {
   "cell_type": "code",
   "execution_count": 12,
   "metadata": {},
   "outputs": [
    {
     "name": "stdout",
     "output_type": "stream",
     "text": [
      "The max sentence length in training data is: 302\n"
     ]
    }
   ],
   "source": [
    "max_length = train_df['sentence'].apply(len).max()\n",
    "print('The max sentence length in training data is:', max_length)"
   ]
  },
  {
   "cell_type": "code",
   "execution_count": 13,
   "metadata": {},
   "outputs": [
    {
     "data": {
      "image/png": "[encoded data removed]",
      "text/plain": [
       "<Figure size 640x480 with 1 Axes>"
      ]
     },
     "metadata": {},
     "output_type": "display_data"
    }
   ],
   "source": [
    "sns.countplot(data=train_df, x='label')\n",
    "plt.title('Distribution of Labels')\n",
    "plt.xlabel('Label')\n",
    "plt.ylabel('Count')\n",
    "plt.show()"
   ]
  },
  {
   "cell_type": "markdown",
   "metadata": {},
   "source": [
    "We observe some data imbalance issue in this data, in particular, class with label 1 is way more than others, we will handle it later"
   ]
  },
  {
   "cell_type": "code",
   "execution_count": 14,
   "metadata": {},
   "outputs": [],
   "source": [
    "train_df['text_length'] = train_df['sentence'].apply(len)\n",
    "mean_text_length = train_df['text_length'] .mean()\n",
    "text_length_90pct = train_df['text_length'].quantile(0.90)"
   ]
  },
  {
   "cell_type": "code",
   "execution_count": 15,
   "metadata": {},
   "outputs": [
    {
     "data": {
      "image/png": "[encoded data removed]",
      "text/plain": [
       "<Figure size 1000x500 with 1 Axes>"
      ]
     },
     "metadata": {},
     "output_type": "display_data"
    }
   ],
   "source": [
    "plt.figure(figsize=(10, 5))\n",
    "sns.kdeplot(train_df['text_length'], fill=True)\n",
    "plt.axvline(mean_text_length, color='darkorange', linestyle='--', label='Mean')\n",
    "plt.axvline(text_length_90pct, color='deepskyblue', linestyle='--', label='90th Percentile')\n",
    "plt.title('Text Length Distribution')\n",
    "plt.xlabel('Text Length')\n",
    "plt.ylabel('Density')\n",
    "plt.show()"
   ]
  },
  {
   "cell_type": "markdown",
   "metadata": {},
   "source": [
    "We see that the average sentence length in dataset in around 125 and the 90 percentile of text length is around 200 words. \\\n",
    "Therefore, we will choose the max_length to 200 when truncating or tokenize the dataset"
   ]
  },
  {
   "cell_type": "code",
   "execution_count": 16,
   "metadata": {},
   "outputs": [
    {
     "data": {
      "text/plain": [
       "Text(0.5, 0.98, 'Text Length Distribution by Label')"
      ]
     },
     "execution_count": 16,
     "metadata": {},
     "output_type": "execute_result"
    },
    {
     "data": {
      "image/png": "[encoded data removed]",
      "text/plain": [
       "<Figure size 750x500 with 1 Axes>"
      ]
     },
     "metadata": {},
     "output_type": "display_data"
    }
   ],
   "source": [
    "g = sns.catplot(x='label', y='text_length', data=train_df, kind='box', height=5, aspect=1.5)\n",
    "g.set_axis_labels('Label', 'Text Length')\n",
    "g.fig.suptitle('Text Length Distribution by Label')"
   ]
  },
  {
   "cell_type": "markdown",
   "metadata": {},
   "source": [
    "We could also see that the distribution of text length is roughly similar to each other, so we would not have to worry about the imbalance of text length."
   ]
  },
  {
   "cell_type": "markdown",
   "metadata": {},
   "source": [
    "# Prepare the Data"
   ]
  },
  {
   "cell_type": "markdown",
   "metadata": {},
   "source": [
    "Cleaning and Handle non-numeric attributes step can be skipped because the dataset is already processed and its text input"
   ]
  },
  {
   "cell_type": "markdown",
   "metadata": {},
   "source": [
    "## Transformation"
   ]
  },
  {
   "cell_type": "code",
   "execution_count": 17,
   "metadata": {},
   "outputs": [
    {
     "name": "stdout",
     "output_type": "stream",
     "text": [
      "GPU memory occupied: 526 MB.\n"
     ]
    }
   ],
   "source": [
    "train_list = train_set['sentence']\n",
    "train_label = train_set['label']\n",
    "val_list = val_set['sentence']\n",
    "val_label = val_set['label']\n",
    "test_list = test_set['sentence']\n",
    "test_label = test_set['label']\n",
    "print_gpu_utilization()"
   ]
  },
  {
   "cell_type": "markdown",
   "metadata": {},
   "source": [
    "## Tokenize"
   ]
  },
  {
   "cell_type": "code",
   "execution_count": 18,
   "metadata": {},
   "outputs": [],
   "source": [
    "def tokenize_dataset(X, y, tokenizer_, max_len = 200):\n",
    "    input_sequences = tokenizer_(X, padding=\"max_length\",\\\n",
    "    max_length=max_len, truncation=True, return_tensors=\"tf\")\n",
    "    input_sequences = dict(input_sequences)\n",
    "    input_ids = input_sequences['input_ids']\n",
    "    attention_mask = input_sequences['attention_mask']\n",
    "    input_dict = {\n",
    "        'input_ids': input_ids,\n",
    "        'attention_mask': attention_mask\n",
    "    }\n",
    "    labels = np.array(y)\n",
    "    return input_dict, labels"
   ]
  },
  {
   "cell_type": "code",
   "execution_count": 19,
   "metadata": {},
   "outputs": [
    {
     "name": "stdout",
     "output_type": "stream",
     "text": [
      "GPU memory occupied: 45030 MB.\n"
     ]
    },
    {
     "name": "stderr",
     "output_type": "stream",
     "text": [
      "2023-05-08 04:02:25.545811: I tensorflow/core/common_runtime/gpu/gpu_device.cc:1635] Created device /job:localhost/replica:0/task:0/device:GPU:0 with 44129 MB memory:  -> device: 0, name: Quadro RTX 8000, pci bus id: 0000:86:00.0, compute capability: 7.5\n"
     ]
    }
   ],
   "source": [
    "checkpoint = \"distilbert-base-uncased\"\n",
    "tokenizer = AutoTokenizer.from_pretrained(checkpoint)\n",
    "# train_input = tokenizer(train_list, padding=\"max_length\", max_length=200, truncation=True, return_tensors=\"tf\")\n",
    "# val_input = tokenizer(val_list, padding=\"max_length\", max_length=200, truncation=True, return_tensors=\"tf\")\n",
    "# test_input = tokenizer(test_list, padding=\"max_length\", max_length=200, truncation=True, return_tensors=\"tf\")\n",
    "train_input, train_label = tokenize_dataset(train_list, train_label, tokenizer)\n",
    "val_input, val_label = tokenize_dataset(val_list, val_label, tokenizer)\n",
    "test_input, test_label = tokenize_dataset(test_list, test_label, tokenizer)\n",
    "\n",
    "print_gpu_utilization()"
   ]
  },
  {
   "cell_type": "code",
   "execution_count": 20,
   "metadata": {},
   "outputs": [
    {
     "data": {
      "text/plain": [
       "dict_keys(['input_ids', 'attention_mask'])"
      ]
     },
     "execution_count": 20,
     "metadata": {},
     "output_type": "execute_result"
    }
   ],
   "source": [
    "train_input.keys()"
   ]
  },
  {
   "cell_type": "code",
   "execution_count": 21,
   "metadata": {},
   "outputs": [
    {
     "data": {
      "text/plain": [
       "<tf.Tensor: shape=(10,), dtype=int32, numpy=\n",
       "array([  101, 15253,  2050,  1011, 28516,  6200,  2097,  5446,  1996,\n",
       "        7909], dtype=int32)>"
      ]
     },
     "execution_count": 21,
     "metadata": {},
     "output_type": "execute_result"
    }
   ],
   "source": [
    "train_input['input_ids'][0][:10]"
   ]
  },
  {
   "cell_type": "markdown",
   "metadata": {},
   "source": [
    "We verified that train_set is converted to a list and then converted to token identifiers. We also use padding techniques for better data uniformity and efficient batch processing"
   ]
  },
  {
   "cell_type": "markdown",
   "metadata": {},
   "source": [
    "## Address any Imbalanced Data Issues (Extra Part)"
   ]
  },
  {
   "cell_type": "code",
   "execution_count": 22,
   "metadata": {},
   "outputs": [],
   "source": [
    "train_ids, train_masks = list(train_input.values())\n",
    "train_ids = np.array(train_ids)\n",
    "train_masks = np.array(train_masks)\n",
    "train_input_cat = np.concatenate([train_ids, train_masks], axis=1)"
   ]
  },
  {
   "cell_type": "code",
   "execution_count": 23,
   "metadata": {},
   "outputs": [],
   "source": [
    "# under_sampler = RandomUnderSampler(sampling_strategy='auto',random_state=seed)\n",
    "# train_list_resampled, train_label_resampled = under_sampler.fit_resample(train_input_cat, train_label)\n",
    "# over_sampler = SMOTE(sampling_strategy='auto', k_neighbors=5,random_state=seed)\n",
    "over_sampler = RandomOverSampler(sampling_strategy='not majority', random_state=seed)\n",
    "train_list_resampled, train_label_resampled = over_sampler.fit_resample(train_input_cat, train_label)"
   ]
  },
  {
   "cell_type": "markdown",
   "metadata": {},
   "source": [
    "Experiment with SMOTE techniques at first, but did not yield good result.\\\n",
    "Changed to random over sampler for all minority class."
   ]
  },
  {
   "cell_type": "code",
   "execution_count": 24,
   "metadata": {},
   "outputs": [],
   "source": [
    "train_ids_resampled = train_list_resampled[:, :train_ids.shape[1]]\n",
    "train_masks_resampled = train_list_resampled[:, train_ids.shape[1]:]\n",
    "train_input_resampled = {'input_ids':train_ids_resampled, 'attention_mask':train_masks_resampled}"
   ]
  },
  {
   "cell_type": "markdown",
   "metadata": {},
   "source": [
    "Write an utility function for easy reuse later"
   ]
  },
  {
   "cell_type": "code",
   "execution_count": 25,
   "metadata": {},
   "outputs": [],
   "source": [
    "def oversampling_bert(inputs_, labels_):\n",
    "    ids, masks = list(inputs_.values())\n",
    "    ids = np.array(ids)\n",
    "    masks = np.array(masks)\n",
    "    input_cat = np.concatenate([ids, masks], axis=1)\n",
    "    sampler = RandomOverSampler(sampling_strategy='not majority', random_state=seed)\n",
    "    list_resampled, label_resampled = sampler.fit_resample(input_cat, labels_)\n",
    "    ids_resampled = list_resampled[:, :ids.shape[1]]\n",
    "    masks_resampled = list_resampled[:, ids.shape[1]:]\n",
    "    input_resampled = {'input_ids':ids_resampled, 'attention_mask':masks_resampled}\n",
    "    return input_resampled, label_resampled"
   ]
  },
  {
   "cell_type": "code",
   "execution_count": 26,
   "metadata": {},
   "outputs": [],
   "source": [
    "# train_input_resampled, train_label_resampled = oversampling_bert(train_input, train_label)"
   ]
  },
  {
   "cell_type": "markdown",
   "metadata": {},
   "source": [
    "Visualize the class distribution after resampling"
   ]
  },
  {
   "cell_type": "code",
   "execution_count": 27,
   "metadata": {},
   "outputs": [],
   "source": [
    "train_label_resampled_df = pd.DataFrame(train_label_resampled, columns = ['label'])"
   ]
  },
  {
   "cell_type": "code",
   "execution_count": 28,
   "metadata": {},
   "outputs": [
    {
     "data": {
      "image/png": "[encoded data removed]",
      "text/plain": [
       "<Figure size 640x480 with 1 Axes>"
      ]
     },
     "metadata": {},
     "output_type": "display_data"
    }
   ],
   "source": [
    "sns.countplot(data=train_label_resampled_df, x='label')\n",
    "plt.title('Distribution of Labels After Resampling')\n",
    "plt.xlabel('Label')\n",
    "plt.ylabel('Count')\n",
    "plt.show()"
   ]
  },
  {
   "cell_type": "markdown",
   "metadata": {},
   "source": [
    "## Utility Function for finding model weights\n",
    "*from the class notebook*"
   ]
  },
  {
   "cell_type": "code",
   "execution_count": 29,
   "metadata": {},
   "outputs": [],
   "source": [
    "def count_weights(weights_per_layer, prefix=None):\n",
    "    # NOTE: the .weights attributed DOES NOT include biases (available via .bias attribute)\n",
    "    count_weights = 0\n",
    "\n",
    "    for layer, weights in enumerate(weights_per_layer):\n",
    "        num_weights = np.prod(weights.shape)\n",
    "\n",
    "        if prefix is not None:\n",
    "            print(f\"Trainable layer {layer} has {num_weights} weights\")\n",
    "\n",
    "        count_weights += num_weights\n",
    "\n",
    "    return count_weights\n",
    "\n",
    "def count_model_weights(model):\n",
    "    all_weights = model.weights\n",
    "    trainable_weights = model.trainable_weights\n",
    "\n",
    "    num_layers = len( model.layers )\n",
    "\n",
    "    # Control detailed output: supress if number of layers (length of trainable_weights) is too big\n",
    "    out_prefix = \"trainable\" if len(trainable_weights) < 10 else None\n",
    "\n",
    "    num_weights, num_trainable_weights = count_weights(all_weights, None), count_weights(trainable_weights, out_prefix)                                                                         \n",
    "\n",
    "    return num_weights, num_trainable_weights"
   ]
  },
  {
   "cell_type": "markdown",
   "metadata": {},
   "source": [
    "# Train a model"
   ]
  },
  {
   "cell_type": "markdown",
   "metadata": {},
   "source": [
    "## Select the model"
   ]
  },
  {
   "cell_type": "code",
   "execution_count": 30,
   "metadata": {},
   "outputs": [
    {
     "name": "stderr",
     "output_type": "stream",
     "text": [
      "Some layers from the model checkpoint at distilbert-base-uncased were not used when initializing TFDistilBertForSequenceClassification: ['vocab_layer_norm', 'activation_13', 'vocab_projector', 'vocab_transform']\n",
      "- This IS expected if you are initializing TFDistilBertForSequenceClassification from the checkpoint of a model trained on another task or with another architecture (e.g. initializing a BertForSequenceClassification model from a BertForPreTraining model).\n",
      "- This IS NOT expected if you are initializing TFDistilBertForSequenceClassification from the checkpoint of a model that you expect to be exactly identical (initializing a BertForSequenceClassification model from a BertForSequenceClassification model).\n",
      "Some layers of TFDistilBertForSequenceClassification were not initialized from the model checkpoint at distilbert-base-uncased and are newly initialized: ['dropout_19', 'pre_classifier', 'classifier']\n",
      "You should probably TRAIN this model on a down-stream task to be able to use it for predictions and inference.\n"
     ]
    },
    {
     "name": "stdout",
     "output_type": "stream",
     "text": [
      "GPU memory occupied: 45222 MB.\n"
     ]
    }
   ],
   "source": [
    "checkpoint = \"distilbert-base-uncased\"\n",
    "bert_model = TFAutoModelForSequenceClassification.from_pretrained(checkpoint, num_labels=3)\n",
    "print_gpu_utilization()"
   ]
  },
  {
   "cell_type": "markdown",
   "metadata": {},
   "source": [
    "## Train the head first"
   ]
  },
  {
   "cell_type": "code",
   "execution_count": 31,
   "metadata": {},
   "outputs": [
    {
     "name": "stdout",
     "output_type": "stream",
     "text": [
      "Model: \"tf_distil_bert_for_sequence_classification\"\n",
      "_________________________________________________________________\n",
      " Layer (type)                Output Shape              Param #   \n",
      "=================================================================\n",
      " distilbert (TFDistilBertMai  multiple                 66362880  \n",
      " nLayer)                                                         \n",
      "                                                                 \n",
      " pre_classifier (Dense)      multiple                  590592    \n",
      "                                                                 \n",
      " classifier (Dense)          multiple                  2307      \n",
      "                                                                 \n",
      " dropout_19 (Dropout)        multiple                  0         \n",
      "                                                                 \n",
      "=================================================================\n",
      "Total params: 66,955,779\n",
      "Trainable params: 66,955,779\n",
      "Non-trainable params: 0\n",
      "_________________________________________________________________\n"
     ]
    }
   ],
   "source": [
    "bert_model.summary()"
   ]
  },
  {
   "cell_type": "markdown",
   "metadata": {},
   "source": [
    "We want to freeze the non-classifier layers"
   ]
  },
  {
   "cell_type": "code",
   "execution_count": 32,
   "metadata": {},
   "outputs": [],
   "source": [
    "bert_model.layers[0].trainable = False"
   ]
  },
  {
   "cell_type": "code",
   "execution_count": 33,
   "metadata": {},
   "outputs": [],
   "source": [
    "bert_model.compile(optimizer=tf.keras.optimizers.Adam(learning_rate=1e-4), \n",
    "                  loss = SparseCategoricalCrossentropy(from_logits=True), \n",
    "                  metrics=[\"accuracy\"]\n",
    "            )"
   ]
  },
  {
   "cell_type": "code",
   "execution_count": 34,
   "metadata": {},
   "outputs": [
    {
     "name": "stdout",
     "output_type": "stream",
     "text": [
      "Trainable layer 0 has 589824 weights\n",
      "Trainable layer 1 has 768 weights\n",
      "Trainable layer 2 has 2304 weights\n",
      "Trainable layer 3 has 3 weights\n",
      "Total number of weights 66,955,779, number of trainable weights 592,899\n"
     ]
    }
   ],
   "source": [
    "num_weights, num_trainable_weights = count_model_weights(bert_model)\n",
    "print(f\"Total number of weights {num_weights:,}, number of trainable weights {num_trainable_weights:,}\")"
   ]
  },
  {
   "cell_type": "markdown",
   "metadata": {},
   "source": [
    "We see that non-classifier layers are freeze and not trainable"
   ]
  },
  {
   "cell_type": "markdown",
   "metadata": {},
   "source": [
    "## Fit & Validation"
   ]
  },
  {
   "cell_type": "code",
   "execution_count": 35,
   "metadata": {},
   "outputs": [],
   "source": [
    "def train_bert_model(model, train_dataset, train_label, val_dataset, val_label, num_epochs=5, batch_size=16, verbose_=True):\n",
    "    history = model.fit(train_dataset,\n",
    "                        train_label,\n",
    "                        batch_size=batch_size, epochs=num_epochs,\n",
    "                        validation_data=(val_dataset,val_label),\n",
    "                        verbose=verbose_,\n",
    "                        callbacks=[EarlyStopping(monitor='val_loss', patience=3, restore_best_weights=True)]\n",
    "                       )\n",
    "    return history"
   ]
  },
  {
   "cell_type": "code",
   "execution_count": 36,
   "metadata": {},
   "outputs": [
    {
     "name": "stdout",
     "output_type": "stream",
     "text": [
      "Epoch 1/5\n"
     ]
    },
    {
     "name": "stderr",
     "output_type": "stream",
     "text": [
      "2023-05-08 04:02:37.846450: I tensorflow/compiler/xla/service/service.cc:169] XLA service 0x4208e6e0 initialized for platform CUDA (this does not guarantee that XLA will be used). Devices:\n",
      "2023-05-08 04:02:37.846518: I tensorflow/compiler/xla/service/service.cc:177]   StreamExecutor device (0): Quadro RTX 8000, Compute Capability 7.5\n",
      "2023-05-08 04:02:37.856755: I tensorflow/compiler/mlir/tensorflow/utils/dump_mlir_util.cc:269] disabling MLIR crash reproducer, set env var `MLIR_CRASH_REPRODUCER_DIRECTORY` to enable.\n",
      "2023-05-08 04:02:38.103289: I tensorflow/compiler/xla/stream_executor/cuda/cuda_dnn.cc:424] Loaded cuDNN version 8600\n",
      "2023-05-08 04:02:38.159778: I tensorflow/tsl/platform/default/subprocess.cc:304] Start cannot spawn child process: No such file or directory\n",
      "2023-05-08 04:02:38.234078: I ./tensorflow/compiler/jit/device_compiler.h:180] Compiled cluster using XLA!  This line is logged at most once for the lifetime of the process.\n"
     ]
    },
    {
     "name": "stdout",
     "output_type": "stream",
     "text": [
      "167/167 [==============================] - 19s 77ms/step - loss: 0.8656 - accuracy: 0.6356 - val_loss: 0.5704 - val_accuracy: 0.8017\n",
      "Epoch 2/5\n",
      "167/167 [==============================] - 11s 69ms/step - loss: 0.6096 - accuracy: 0.7506 - val_loss: 0.4830 - val_accuracy: 0.8237\n",
      "Epoch 3/5\n",
      "167/167 [==============================] - 12s 69ms/step - loss: 0.5000 - accuracy: 0.7978 - val_loss: 0.4746 - val_accuracy: 0.8209\n",
      "Epoch 4/5\n",
      "167/167 [==============================] - 11s 68ms/step - loss: 0.4431 - accuracy: 0.8232 - val_loss: 0.3775 - val_accuracy: 0.8347\n",
      "Epoch 5/5\n",
      "167/167 [==============================] - 11s 69ms/step - loss: 0.4076 - accuracy: 0.8386 - val_loss: 0.3565 - val_accuracy: 0.8457\n"
     ]
    }
   ],
   "source": [
    "bert_history_head = train_bert_model(bert_model, train_input_resampled, train_label_resampled,val_input,val_label)"
   ]
  },
  {
   "cell_type": "markdown",
   "metadata": {},
   "source": [
    "## Train all the layers"
   ]
  },
  {
   "cell_type": "code",
   "execution_count": 37,
   "metadata": {},
   "outputs": [],
   "source": [
    "bert_model.layers[0].trainable = True"
   ]
  },
  {
   "cell_type": "code",
   "execution_count": 38,
   "metadata": {},
   "outputs": [],
   "source": [
    "bert_model.compile(optimizer=tf.keras.optimizers.Adam(learning_rate=5e-5), \n",
    "                  loss = SparseCategoricalCrossentropy(from_logits=True), \n",
    "                  metrics=[\"accuracy\"]\n",
    "            )"
   ]
  },
  {
   "cell_type": "code",
   "execution_count": 39,
   "metadata": {},
   "outputs": [
    {
     "name": "stdout",
     "output_type": "stream",
     "text": [
      "Total number of weights 66,955,779, number of trainable weights 66,955,779\n"
     ]
    }
   ],
   "source": [
    "num_weights, num_trainable_weights = count_model_weights(bert_model)\n",
    "print(f\"Total number of weights {num_weights:,}, number of trainable weights {num_trainable_weights:,}\")"
   ]
  },
  {
   "cell_type": "code",
   "execution_count": 40,
   "metadata": {},
   "outputs": [
    {
     "name": "stdout",
     "output_type": "stream",
     "text": [
      "Epoch 1/5\n",
      "167/167 [==============================] - 53s 221ms/step - loss: 0.1636 - accuracy: 0.9434 - val_loss: 0.1286 - val_accuracy: 0.9587\n",
      "Epoch 2/5\n",
      "167/167 [==============================] - 28s 166ms/step - loss: 0.0184 - accuracy: 0.9933 - val_loss: 0.0971 - val_accuracy: 0.9669\n",
      "Epoch 3/5\n",
      "167/167 [==============================] - 27s 163ms/step - loss: 0.0056 - accuracy: 0.9989 - val_loss: 0.0953 - val_accuracy: 0.9697\n",
      "Epoch 4/5\n",
      "167/167 [==============================] - 26s 157ms/step - loss: 0.0208 - accuracy: 0.9966 - val_loss: 0.1294 - val_accuracy: 0.9697\n",
      "Epoch 5/5\n",
      "167/167 [==============================] - 25s 152ms/step - loss: 0.0402 - accuracy: 0.9884 - val_loss: 0.2805 - val_accuracy: 0.9449\n"
     ]
    }
   ],
   "source": [
    "bert_history = train_bert_model(bert_model, train_input_resampled, train_label_resampled,val_input,val_label)\n",
    "# bert_history = train_bert_model(bert_model, train_input_resampled,train_label_resampled,val_input,val_label)"
   ]
  },
  {
   "cell_type": "markdown",
   "metadata": {},
   "source": [
    "## Error Analysis"
   ]
  },
  {
   "cell_type": "code",
   "execution_count": 41,
   "metadata": {},
   "outputs": [],
   "source": [
    "def plot_bert_training(history):\n",
    "    acc = history.history['accuracy']\n",
    "    val_acc = history.history['val_accuracy']\n",
    "    # loss = history.history['loss']\n",
    "    # val_loss = history.history['val_loss']\n",
    "    epochs = range(len(acc))\n",
    "    plt.plot(epochs, acc, 'b', label='Training accuracy')\n",
    "    plt.plot(epochs, val_acc, 'r', label='Validation accuracy')\n",
    "    plt.title('Training and validation accuracy')\n",
    "    plt.legend()\n",
    "    plt.show()"
   ]
  },
  {
   "cell_type": "code",
   "execution_count": 42,
   "metadata": {},
   "outputs": [
    {
     "data": {
      "image/png": "[encoded data removed]",
      "text/plain": [
       "<Figure size 640x480 with 1 Axes>"
      ]
     },
     "metadata": {},
     "output_type": "display_data"
    }
   ],
   "source": [
    "plot_bert_training(bert_history)"
   ]
  },
  {
   "cell_type": "markdown",
   "metadata": {},
   "source": [
    "Even if the training and validation accuracy decreased, it is still fine because we add the callback in the fit section, which will help us from overfitting and restore the best weight based on lowest validation loss."
   ]
  },
  {
   "cell_type": "code",
   "execution_count": 43,
   "metadata": {},
   "outputs": [
    {
     "name": "stdout",
     "output_type": "stream",
     "text": [
      "15/15 [==============================] - 2s 88ms/step\n",
      "Accuracy: 0.9580573951434879\n"
     ]
    }
   ],
   "source": [
    "predictions = bert_model.predict(test_input)\n",
    "logits = predictions.logits\n",
    "probabilities = scipy.special.softmax(logits, axis=1)\n",
    "predicted_labels = np.argmax(probabilities, axis=1)\n",
    "accuracy_distilbert = accuracy_score(test_label, predicted_labels)\n",
    "print(\"Accuracy:\", accuracy_distilbert)"
   ]
  },
  {
   "cell_type": "code",
   "execution_count": 44,
   "metadata": {},
   "outputs": [
    {
     "name": "stdout",
     "output_type": "stream",
     "text": [
      "+-----------+--------------------+--------------------+--------------------+\n",
      "|           |         0          |         1          |         2          |\n",
      "+-----------+--------------------+--------------------+--------------------+\n",
      "| precision |        0.9         | 0.958904109589041  |        1.0         |\n",
      "|  recall   |        1.0         |        1.0         | 0.8272727272727273 |\n",
      "| f1 score  | 0.9473684210526316 | 0.9790209790209791 | 0.9054726368159205 |\n",
      "+-----------+--------------------+--------------------+--------------------+\n"
     ]
    }
   ],
   "source": [
    "precision = precision_score(test_label, predicted_labels, average=None)\n",
    "recall = recall_score(test_label, predicted_labels, average=None)\n",
    "f1 = f1_score(test_label, predicted_labels, average=None)\n",
    "\n",
    "# print(\"Precision for 3 classes:\", precision)\n",
    "# print(\"Recall for 3 classes:\", recall)\n",
    "# print(\"F1 score for 3 classes:\", f1)\n",
    "performance_matrix = pd.DataFrame([precision, recall, f1],index=['precision','recall','f1 score'])\n",
    "# display(performance_matrix)\n",
    "print(tabulate(performance_matrix, headers='keys', tablefmt='pretty'))"
   ]
  },
  {
   "cell_type": "markdown",
   "metadata": {},
   "source": [
    "We observe that for class 0 and 1, the precision, recall and f1 score is very high, all above 0.9.\\\n",
    "For class 2, the precision and f1 score is slightly lower compared to other class, but it still indicates a very good result. \\\n",
    "We could conclude that data imbalance issue is successfully addressed.\\\n",
    "*This observation maybe inaccurate because this notebook could be run multiple times, which gives slightly different result*"
   ]
  },
  {
   "cell_type": "markdown",
   "metadata": {},
   "source": [
    "# End of the part I\n",
    "\n",
    "- - - - - - - - - - - - - - - - - - - - - - - - - - - - - - - - - - - - - - - - - - - - - - - - - - - - - - - - - - - - - - - - - - - - - - - - - - - - - - - - - - - -\n"
   ]
  },
  {
   "cell_type": "markdown",
   "metadata": {},
   "source": [
    "# Part II - Performance Enhancement / Further Analysis"
   ]
  },
  {
   "cell_type": "markdown",
   "metadata": {},
   "source": [
    "## Create (and fit the model with) a TensorFlow Dataset (TFDS)"
   ]
  },
  {
   "cell_type": "code",
   "execution_count": 45,
   "metadata": {},
   "outputs": [
    {
     "name": "stderr",
     "output_type": "stream",
     "text": [
      "Found cached dataset financial_phrasebank (/home/jl8831/.cache/huggingface/datasets/financial_phrasebank/sentences_allagree/1.0.0/550bde12e6c30e2674da973a55f57edde5181d53f5a5a34c1531c53f93b7e141)\n"
     ]
    },
    {
     "data": {
      "application/vnd.jupyter.widget-view+json": {
       "model_id": "f6df15f7d1e049dab04282983c48f13b",
       "version_major": 2,
       "version_minor": 0
      },
      "text/plain": [
       "  0%|          | 0/1 [00:00<?, ?it/s]"
      ]
     },
     "metadata": {},
     "output_type": "display_data"
    },
    {
     "data": {
      "text/plain": [
       "DatasetDict({\n",
       "    train: Dataset({\n",
       "        features: ['sentence', 'label'],\n",
       "        num_rows: 2264\n",
       "    })\n",
       "})"
      ]
     },
     "execution_count": 45,
     "metadata": {},
     "output_type": "execute_result"
    }
   ],
   "source": [
    "raw_data = load_dataset(\"financial_phrasebank\", \"sentences_allagree\")\n",
    "raw_data"
   ]
  },
  {
   "cell_type": "markdown",
   "metadata": {},
   "source": [
    "After several tried, I found it is just not possible to tokenize the dataset after convert to TFDS dataset, specifically TensorSliceDataset. \\\n",
    "I have my failure code in the bottom. \\\n",
    "The main error is that tensor object has issue when converting tensor to string object using map function, which requires tf.Py_function and tf.executing_eagerly(). But with this tf.Py_function, it is not possible to add tokenizer into the function as an input. \n",
    "Therefore, I decide to first tokenize as datasets rather than TFDS."
   ]
  },
  {
   "cell_type": "code",
   "execution_count": 46,
   "metadata": {},
   "outputs": [
    {
     "data": {
      "text/plain": [
       "True"
      ]
     },
     "execution_count": 46,
     "metadata": {},
     "output_type": "execute_result"
    }
   ],
   "source": [
    "# raw_tfds = tf.data.Dataset.from_tensor_slices((\n",
    "#     raw_data['train']['sentence'],\n",
    "#     raw_data['train']['label']\n",
    "# ))\n",
    "\n",
    "# raw_tfds = tf.data.Dataset.from_tensor_slices((\n",
    "#     {\"sentence\": tf.constant(raw_data['train']['sentence']),\n",
    "#     \"label\": tf.cast(raw_data['train']['label'],tf.int64)}\n",
    "# ))\n",
    "\n",
    "# raw_tfds = tf.data.Dataset.from_tensor_slices((\n",
    "#     {\"sentence\":raw_data['train']['sentence'], \"label\":raw_data['train']['label']}\n",
    "# ))\n",
    "\n",
    "tf.executing_eagerly()\n",
    "# tf.data.experimental.enable_debug_mode()\n",
    "# tf.config.run_functions_eagerly(True)\n",
    "\n",
    "# next(iter(encoded_dataset))\n",
    "\n",
    "# # def tokenize_tf_dataset(X_input, tokenizer_, max_len = 200, ):\n",
    "# #     X_str = X_input.numpy().decode(\"UTF-8\")\n",
    "# #     # print(X_str)\n",
    "# #     input_sequences = tokenizer_(X_str, padding=\"max_length\",\\\n",
    "# #     max_length=max_len, truncation=True, return_tensors=\"tf\")\n",
    "# #     input_sequences = dict(input_sequences)\n",
    "# #     input_ids = input_sequences['input_ids']\n",
    "# #     attention_mask = input_sequences['attention_mask']\n",
    "# #     input_dict = {\n",
    "# #         'input_ids': input_ids,\n",
    "# #         'attention_mask': attention_mask\n",
    "# #     }\n",
    "# #     return input_dict\n",
    "\n",
    "# checkpoint = \"distilbert-base-uncased\"\n",
    "# tokenizer = AutoTokenizer.from_pretrained(checkpoint)\n",
    "# encoded_dataset = raw_tfds.map(lambda e: tf.Py_function(tokenize_tf_dataset, [x], [tf.string])\n",
    "# encoded_dataset = raw_tfds.map(lambda e: tokenizer(e['sentence'], truncation=True, padding='max_length'), batched=True)\n",
    "# # encoded_dataset = raw_tfds.map(lambda feature: tokenize_tf_dataset(feature, tokenizer))\n",
    "# # input_sequences = tokenizer(raw_tfds, padding=\"max_length\",max_length=200, truncation=True, return_tensors=\"tf\")"
   ]
  },
  {
   "cell_type": "markdown",
   "metadata": {},
   "source": [
    "### Tokenize"
   ]
  },
  {
   "cell_type": "code",
   "execution_count": 47,
   "metadata": {},
   "outputs": [
    {
     "name": "stderr",
     "output_type": "stream",
     "text": [
      "Loading cached processed dataset at /home/jl8831/.cache/huggingface/datasets/financial_phrasebank/sentences_allagree/1.0.0/550bde12e6c30e2674da973a55f57edde5181d53f5a5a34c1531c53f93b7e141/cache-8d4969192570968b.arrow\n"
     ]
    }
   ],
   "source": [
    "# Tokenize the raw dataset\n",
    "checkpoint = \"distilbert-base-uncased\"\n",
    "tokenizer = DistilBertTokenizerFast.from_pretrained(checkpoint)\n",
    "raw_data_tokenized = raw_data['train'].map(lambda e: tokenizer(e['sentence'], padding=\"max_length\",max_length=200, truncation=True, return_tensors=\"tf\"), batched=True)\n",
    "raw_data_tokenized.set_format(type='tensorflow', columns=['input_ids', 'attention_mask', 'label'])\n",
    "features = {x: raw_data_tokenized[x] for x in ['input_ids', 'attention_mask']}"
   ]
  },
  {
   "cell_type": "code",
   "execution_count": 48,
   "metadata": {},
   "outputs": [],
   "source": [
    "# Convert to TFDS\n",
    "raw_tfds = tf.data.Dataset.from_tensor_slices((features, raw_data_tokenized[\"label\"]))"
   ]
  },
  {
   "cell_type": "markdown",
   "metadata": {},
   "source": [
    "### Train-Test Split"
   ]
  },
  {
   "cell_type": "code",
   "execution_count": 49,
   "metadata": {},
   "outputs": [],
   "source": [
    "# Shuffle the data\n",
    "raw_tfds = raw_tfds.shuffle(len(raw_tfds), seed=seed)\n",
    "\n",
    "# Split into train, validation and test set\n",
    "test_size = 0.2\n",
    "train_size = 1 - test_size\n",
    "train_temp_split = int(len(raw_tfds) * train_size)\n",
    "train_temp_tfds = raw_tfds.take(train_temp_split)\n",
    "test_tfds = raw_tfds.skip(train_temp_split)\n",
    "train_split = int(len(train_temp_tfds) * train_size)\n",
    "train_tfds = train_temp_tfds.take(train_split)\n",
    "val_tfds = train_temp_tfds.skip(train_split)"
   ]
  },
  {
   "cell_type": "code",
   "execution_count": 50,
   "metadata": {},
   "outputs": [
    {
     "name": "stdout",
     "output_type": "stream",
     "text": [
      "Data in training set: 1448\n",
      "Data in validation set: 363\n",
      "Data in test set: 453\n"
     ]
    }
   ],
   "source": [
    "print(\"Data in training set:\",len(train_tfds))\n",
    "print(\"Data in validation set:\",len(val_tfds))\n",
    "print(\"Data in test set:\",len(test_tfds))"
   ]
  },
  {
   "cell_type": "markdown",
   "metadata": {},
   "source": [
    "## Address any Imbalanced Data issues"
   ]
  },
  {
   "cell_type": "code",
   "execution_count": 51,
   "metadata": {},
   "outputs": [
    {
     "name": "stderr",
     "output_type": "stream",
     "text": [
      "2023-05-08 04:06:21.758610: I tensorflow/core/common_runtime/executor.cc:1197] [/device:CPU:0] (DEBUG INFO) Executor start aborting (this does not indicate an error and you can ignore this message): INVALID_ARGUMENT: You must feed a value for placeholder tensor 'Placeholder/_0' with dtype int64 and shape [2264,200]\n",
      "\t [[{{node Placeholder/_0}}]]\n",
      "2023-05-08 04:06:21.829609: I tensorflow/core/common_runtime/executor.cc:1197] [/device:CPU:0] (DEBUG INFO) Executor start aborting (this does not indicate an error and you can ignore this message): INVALID_ARGUMENT: You must feed a value for placeholder tensor 'Placeholder/_0' with dtype int64 and shape [2264,200]\n",
      "\t [[{{node Placeholder/_0}}]]\n"
     ]
    },
    {
     "name": "stdout",
     "output_type": "stream",
     "text": [
      "Number of Data with label 0 in training set: 205\n",
      "Number of Data with label 1 in training set: 880\n",
      "Number of Data with label 2 in training set: 370\n"
     ]
    },
    {
     "name": "stderr",
     "output_type": "stream",
     "text": [
      "2023-05-08 04:06:21.988684: I tensorflow/core/common_runtime/executor.cc:1197] [/device:CPU:0] (DEBUG INFO) Executor start aborting (this does not indicate an error and you can ignore this message): INVALID_ARGUMENT: You must feed a value for placeholder tensor 'Placeholder/_0' with dtype int64 and shape [2264,200]\n",
      "\t [[{{node Placeholder/_0}}]]\n"
     ]
    }
   ],
   "source": [
    "# Split the dataset by class\n",
    "\n",
    "datasets_by_class = []\n",
    "for class_idx in range(3):\n",
    "    class_dataset = train_tfds.filter(lambda x, y: y == class_idx)\n",
    "    datasets_by_class.append(class_dataset)\n",
    "label0_len = len(list(datasets_by_class[0].as_numpy_iterator()))\n",
    "label1_len = len(list(datasets_by_class[1].as_numpy_iterator()))\n",
    "label2_len = len(list(datasets_by_class[2].as_numpy_iterator()))\n",
    "print(\"Number of Data with label 0 in training set:\", label0_len)\n",
    "print(\"Number of Data with label 1 in training set:\", label1_len)\n",
    "print(\"Number of Data with label 2 in training set:\", label2_len)"
   ]
  },
  {
   "cell_type": "markdown",
   "metadata": {},
   "source": [
    "We could observe that there may exist data imbalance issue because there are more data with label 1 in the training set"
   ]
  },
  {
   "cell_type": "code",
   "execution_count": 52,
   "metadata": {},
   "outputs": [
    {
     "name": "stdout",
     "output_type": "stream",
     "text": [
      "WARNING:tensorflow:From /tmp/ipykernel_1065537/3809648217.py:8: sample_from_datasets_v2 (from tensorflow.python.data.experimental.ops.interleave_ops) is deprecated and will be removed in a future version.\n",
      "Instructions for updating:\n",
      "Use `tf.data.Dataset.sample_from_datasets(...)`.\n"
     ]
    },
    {
     "name": "stderr",
     "output_type": "stream",
     "text": [
      "2023-05-08 04:06:22.507332: I tensorflow/core/common_runtime/executor.cc:1197] [/device:CPU:0] (DEBUG INFO) Executor start aborting (this does not indicate an error and you can ignore this message): INVALID_ARGUMENT: You must feed a value for placeholder tensor 'Placeholder/_39' with dtype int64 and shape [2264,200]\n",
      "\t [[{{node Placeholder/_39}}]]\n",
      "2023-05-08 04:06:22.507881: I tensorflow/core/common_runtime/executor.cc:1197] [/device:CPU:0] (DEBUG INFO) Executor start aborting (this does not indicate an error and you can ignore this message): INVALID_ARGUMENT: You must feed a value for placeholder tensor 'Placeholder/_40' with dtype int64 and shape [2264,200]\n",
      "\t [[{{node Placeholder/_40}}]]\n"
     ]
    }
   ],
   "source": [
    "# Oversampling\n",
    "oversampled_datasets = []\n",
    "samples_per_class = label1_len\n",
    "for class_dataset in datasets_by_class:\n",
    "    repeat_factor = int(np.ceil(samples_per_class / len(list(class_dataset.as_numpy_iterator()))))\n",
    "    oversampled_dataset = class_dataset.repeat(repeat_factor)\n",
    "    oversampled_datasets.append(oversampled_dataset)\n",
    "train_tfds_resampled = tf.data.experimental.sample_from_datasets(oversampled_datasets)\n",
    "tfds_train_len = len(list(train_tfds_resampled.as_numpy_iterator()))\n",
    "train_tfds_resampled = train_tfds_resampled.shuffle(tfds_train_len, seed=seed)"
   ]
  },
  {
   "cell_type": "markdown",
   "metadata": {},
   "source": [
    "## Create your own Classification head"
   ]
  },
  {
   "cell_type": "code",
   "execution_count": 53,
   "metadata": {},
   "outputs": [
    {
     "name": "stderr",
     "output_type": "stream",
     "text": [
      "Some layers from the model checkpoint at distilbert-base-uncased were not used when initializing TFDistilBertModel: ['vocab_layer_norm', 'activation_13', 'vocab_projector', 'vocab_transform']\n",
      "- This IS expected if you are initializing TFDistilBertModel from the checkpoint of a model trained on another task or with another architecture (e.g. initializing a BertForSequenceClassification model from a BertForPreTraining model).\n",
      "- This IS NOT expected if you are initializing TFDistilBertModel from the checkpoint of a model that you expect to be exactly identical (initializing a BertForSequenceClassification model from a BertForSequenceClassification model).\n",
      "All the layers of TFDistilBertModel were initialized from the model checkpoint at distilbert-base-uncased.\n",
      "If your task is similar to the task the model of the checkpoint was trained on, you can already use TFDistilBertModel for predictions without further training.\n"
     ]
    }
   ],
   "source": [
    "checkpoint = \"distilbert-base-uncased\"\n",
    "bert_model_headless = TFDistilBertModel.from_pretrained(checkpoint)"
   ]
  },
  {
   "cell_type": "code",
   "execution_count": 54,
   "metadata": {},
   "outputs": [
    {
     "name": "stdout",
     "output_type": "stream",
     "text": [
      "Model: \"tf_distil_bert_model\"\n",
      "_________________________________________________________________\n",
      " Layer (type)                Output Shape              Param #   \n",
      "=================================================================\n",
      " distilbert (TFDistilBertMai  multiple                 66362880  \n",
      " nLayer)                                                         \n",
      "                                                                 \n",
      "=================================================================\n",
      "Total params: 66,362,880\n",
      "Trainable params: 66,362,880\n",
      "Non-trainable params: 0\n",
      "_________________________________________________________________\n"
     ]
    }
   ],
   "source": [
    "# Model without classifier head\n",
    "bert_model_headless.summary()"
   ]
  },
  {
   "cell_type": "code",
   "execution_count": 55,
   "metadata": {},
   "outputs": [],
   "source": [
    "class BertClassificationModel(keras.Model):\n",
    "    def __init__(self, encoder, train_encoder=True):\n",
    "        super(BertClassificationModel, self).__init__()\n",
    "        self.encoder = encoder\n",
    "        self.encoder.trainable = train_encoder\n",
    "        self.dropout1 = layers.Dropout(0.1)\n",
    "        self.dense1 = layers.Dense(30, activation=\"relu\")\n",
    "        self.dropout2 = layers.Dropout(0.1)\n",
    "        self.dense2 = layers.Dense(3, activation='softmax')\n",
    "  \n",
    "    def call(self, input):\n",
    "        x = self.encoder(input)\n",
    "        x = x['last_hidden_state'][:, 0, :]\n",
    "        x = self.dropout1(x)\n",
    "        x = self.dense1(x)\n",
    "        x = self.dropout2(x)\n",
    "        x = self.dense2(x)\n",
    "        return x"
   ]
  },
  {
   "cell_type": "code",
   "execution_count": 56,
   "metadata": {},
   "outputs": [],
   "source": [
    "bert_classify_model = BertClassificationModel(bert_model_headless, train_encoder=False)"
   ]
  },
  {
   "cell_type": "code",
   "execution_count": 57,
   "metadata": {},
   "outputs": [
    {
     "name": "stderr",
     "output_type": "stream",
     "text": [
      "2023-05-08 04:06:24.170774: I tensorflow/core/common_runtime/executor.cc:1197] [/device:CPU:0] (DEBUG INFO) Executor start aborting (this does not indicate an error and you can ignore this message): INVALID_ARGUMENT: You must feed a value for placeholder tensor 'Placeholder/_7' with dtype int64 and shape [2264,200]\n",
      "\t [[{{node Placeholder/_7}}]]\n",
      "2023-05-08 04:06:24.171403: I tensorflow/core/common_runtime/executor.cc:1197] [/device:CPU:0] (DEBUG INFO) Executor start aborting (this does not indicate an error and you can ignore this message): INVALID_ARGUMENT: You must feed a value for placeholder tensor 'Placeholder/_9' with dtype int64 and shape [2264]\n",
      "\t [[{{node Placeholder/_9}}]]\n"
     ]
    }
   ],
   "source": [
    "# We need to first pass in first batch to build the model, otherwise, we could not get model summary\n",
    "first_batch_outputs = bert_classify_model(next(iter(train_tfds_resampled.batch(4))))"
   ]
  },
  {
   "cell_type": "code",
   "execution_count": 58,
   "metadata": {},
   "outputs": [
    {
     "name": "stdout",
     "output_type": "stream",
     "text": [
      "Model: \"bert_classification_model\"\n",
      "_________________________________________________________________\n",
      " Layer (type)                Output Shape              Param #   \n",
      "=================================================================\n",
      " tf_distil_bert_model (TFDis  multiple                 66362880  \n",
      " tilBertModel)                                                   \n",
      "                                                                 \n",
      " dropout_39 (Dropout)        multiple                  0         \n",
      "                                                                 \n",
      " dense (Dense)               multiple                  23070     \n",
      "                                                                 \n",
      " dropout_40 (Dropout)        multiple                  0         \n",
      "                                                                 \n",
      " dense_1 (Dense)             multiple                  93        \n",
      "                                                                 \n",
      "=================================================================\n",
      "Total params: 66,386,043\n",
      "Trainable params: 23,163\n",
      "Non-trainable params: 66,362,880\n",
      "_________________________________________________________________\n"
     ]
    }
   ],
   "source": [
    "bert_classify_model.summary()"
   ]
  },
  {
   "cell_type": "code",
   "execution_count": 59,
   "metadata": {},
   "outputs": [
    {
     "name": "stdout",
     "output_type": "stream",
     "text": [
      "Trainable layer 0 has 23040 weights\n",
      "Trainable layer 1 has 30 weights\n",
      "Trainable layer 2 has 90 weights\n",
      "Trainable layer 3 has 3 weights\n",
      "Total number of weights 66,386,043, number of trainable weights 23,163\n"
     ]
    }
   ],
   "source": [
    "num_weights, num_trainable_weights = count_model_weights(bert_classify_model)\n",
    "print(f\"Total number of weights {num_weights:,}, number of trainable weights {num_trainable_weights:,}\")"
   ]
  },
  {
   "cell_type": "markdown",
   "metadata": {},
   "source": [
    "### Train the head\n",
    "We want to train the head first to avoid large gradients"
   ]
  },
  {
   "cell_type": "code",
   "execution_count": 60,
   "metadata": {},
   "outputs": [],
   "source": [
    "bert_classify_model.compile(optimizer=tf.keras.optimizers.Adam(learning_rate=5e-5), \n",
    "                  loss = \"sparse_categorical_crossentropy\", \n",
    "                  metrics=[\"accuracy\"]\n",
    "                )"
   ]
  },
  {
   "cell_type": "code",
   "execution_count": 61,
   "metadata": {},
   "outputs": [],
   "source": [
    "def train_bert_model_extra(model, train_dataset, val_dataset, num_epochs=5, batch_size=16):\n",
    "    history = model.fit(train_dataset.repeat().shuffle(buffer_size=tfds_train_len).batch(batch_size),\n",
    "                        epochs=num_epochs,\n",
    "                        validation_data=val_dataset.batch(batch_size),\n",
    "                        steps_per_epoch=np.ceil(tfds_train_len/batch_size),\n",
    "                        callbacks=[EarlyStopping(monitor='val_loss', patience=3, restore_best_weights=True)]\n",
    "                       )\n",
    "    return history"
   ]
  },
  {
   "cell_type": "code",
   "execution_count": 62,
   "metadata": {},
   "outputs": [
    {
     "name": "stdout",
     "output_type": "stream",
     "text": [
      "Epoch 1/5\n"
     ]
    },
    {
     "name": "stderr",
     "output_type": "stream",
     "text": [
      "2023-05-08 04:06:25.209846: I tensorflow/core/common_runtime/executor.cc:1197] [/device:CPU:0] (DEBUG INFO) Executor start aborting (this does not indicate an error and you can ignore this message): INVALID_ARGUMENT: You must feed a value for placeholder tensor 'Placeholder/_39' with dtype int64 and shape [2264,200]\n",
      "\t [[{{node Placeholder/_39}}]]\n",
      "2023-05-08 04:06:25.210630: I tensorflow/core/common_runtime/executor.cc:1197] [/device:CPU:0] (DEBUG INFO) Executor start aborting (this does not indicate an error and you can ignore this message): INVALID_ARGUMENT: You must feed a value for placeholder tensor 'Placeholder/_8' with dtype int64 and shape [2264,200]\n",
      "\t [[{{node Placeholder/_8}}]]\n"
     ]
    },
    {
     "name": "stdout",
     "output_type": "stream",
     "text": [
      "183/183 [==============================] - ETA: 0s - loss: 1.1106 - accuracy: 0.3798"
     ]
    },
    {
     "name": "stderr",
     "output_type": "stream",
     "text": [
      "2023-05-08 04:06:41.470393: I tensorflow/core/common_runtime/executor.cc:1197] [/device:CPU:0] (DEBUG INFO) Executor start aborting (this does not indicate an error and you can ignore this message): INVALID_ARGUMENT: You must feed a value for placeholder tensor 'Placeholder/_0' with dtype int64 and shape [2264,200]\n",
      "\t [[{{node Placeholder/_0}}]]\n"
     ]
    },
    {
     "name": "stdout",
     "output_type": "stream",
     "text": [
      "183/183 [==============================] - 19s 75ms/step - loss: 1.1106 - accuracy: 0.3798 - val_loss: 1.0194 - val_accuracy: 0.5041\n",
      "Epoch 2/5\n",
      "183/183 [==============================] - 12s 68ms/step - loss: 0.9750 - accuracy: 0.4911 - val_loss: 0.8868 - val_accuracy: 0.7135\n",
      "Epoch 3/5\n",
      "183/183 [==============================] - 12s 68ms/step - loss: 0.9104 - accuracy: 0.5700 - val_loss: 0.8162 - val_accuracy: 0.7273\n",
      "Epoch 4/5\n",
      "183/183 [==============================] - 12s 68ms/step - loss: 0.8640 - accuracy: 0.5789 - val_loss: 0.7322 - val_accuracy: 0.7769\n",
      "Epoch 5/5\n",
      "183/183 [==============================] - 12s 68ms/step - loss: 0.7993 - accuracy: 0.6359 - val_loss: 0.7063 - val_accuracy: 0.7438\n"
     ]
    }
   ],
   "source": [
    "bert_classify_history_head = train_bert_model_extra(bert_classify_model, train_tfds_resampled, val_tfds)"
   ]
  },
  {
   "cell_type": "code",
   "execution_count": 63,
   "metadata": {},
   "outputs": [
    {
     "data": {
      "image/png": "[encoded data removed]",
      "text/plain": [
       "<Figure size 640x480 with 1 Axes>"
      ]
     },
     "metadata": {},
     "output_type": "display_data"
    }
   ],
   "source": [
    "plot_bert_training(bert_classify_history_head)"
   ]
  },
  {
   "cell_type": "code",
   "execution_count": 64,
   "metadata": {},
   "outputs": [
    {
     "name": "stdout",
     "output_type": "stream",
     "text": [
      " 3/29 [==>...........................] - ETA: 1s - loss: 0.7155 - accuracy: 0.7083"
     ]
    },
    {
     "name": "stderr",
     "output_type": "stream",
     "text": [
      "2023-05-08 04:07:34.330805: I tensorflow/core/common_runtime/executor.cc:1197] [/device:CPU:0] (DEBUG INFO) Executor start aborting (this does not indicate an error and you can ignore this message): INVALID_ARGUMENT: You must feed a value for placeholder tensor 'Placeholder/_1' with dtype int64 and shape [2264,200]\n",
      "\t [[{{node Placeholder/_1}}]]\n"
     ]
    },
    {
     "name": "stdout",
     "output_type": "stream",
     "text": [
      "29/29 [==============================] - 2s 55ms/step - loss: 0.7025 - accuracy: 0.7483\n",
      "Classifier Accuracy(Head only): 0.748344361782074\n"
     ]
    }
   ],
   "source": [
    "accuracy_head = bert_classify_model.evaluate(test_tfds.batch(16))[1]\n",
    "print(\"Classifier Accuracy(Head only):\", accuracy_head)"
   ]
  },
  {
   "cell_type": "markdown",
   "metadata": {},
   "source": [
    "### Train all layers"
   ]
  },
  {
   "cell_type": "code",
   "execution_count": 65,
   "metadata": {},
   "outputs": [],
   "source": [
    "bert_classify_model.encoder.trainable = True"
   ]
  },
  {
   "cell_type": "code",
   "execution_count": 66,
   "metadata": {},
   "outputs": [],
   "source": [
    "bert_classify_model.compile(optimizer=tf.keras.optimizers.Adam(learning_rate=5e-5), \n",
    "                  loss = \"sparse_categorical_crossentropy\", \n",
    "                  metrics=[\"accuracy\"]\n",
    "                )"
   ]
  },
  {
   "cell_type": "code",
   "execution_count": 67,
   "metadata": {},
   "outputs": [
    {
     "name": "stdout",
     "output_type": "stream",
     "text": [
      "Total number of weights 66,386,043, number of trainable weights 66,386,043\n"
     ]
    }
   ],
   "source": [
    "num_weights, num_trainable_weights = count_model_weights(bert_classify_model)\n",
    "print(f\"Total number of weights {num_weights:,}, number of trainable weights {num_trainable_weights:,}\")"
   ]
  },
  {
   "cell_type": "code",
   "execution_count": 68,
   "metadata": {},
   "outputs": [
    {
     "name": "stdout",
     "output_type": "stream",
     "text": [
      "Epoch 1/5\n"
     ]
    },
    {
     "name": "stderr",
     "output_type": "stream",
     "text": [
      "2023-05-08 04:07:36.703289: I tensorflow/core/common_runtime/executor.cc:1197] [/device:CPU:0] (DEBUG INFO) Executor start aborting (this does not indicate an error and you can ignore this message): INVALID_ARGUMENT: You must feed a value for placeholder tensor 'Placeholder/_24' with dtype int64 and shape [2264,200]\n",
      "\t [[{{node Placeholder/_24}}]]\n",
      "2023-05-08 04:07:36.704303: I tensorflow/core/common_runtime/executor.cc:1197] [/device:CPU:0] (DEBUG INFO) Executor start aborting (this does not indicate an error and you can ignore this message): INVALID_ARGUMENT: You must feed a value for placeholder tensor 'Placeholder/_9' with dtype int64 and shape [2264]\n",
      "\t [[{{node Placeholder/_9}}]]\n"
     ]
    },
    {
     "name": "stdout",
     "output_type": "stream",
     "text": [
      "183/183 [==============================] - ETA: 0s - loss: 0.2153 - accuracy: 0.9249"
     ]
    },
    {
     "name": "stderr",
     "output_type": "stream",
     "text": [
      "2023-05-08 04:08:25.077290: I tensorflow/core/common_runtime/executor.cc:1197] [/device:CPU:0] (DEBUG INFO) Executor start aborting (this does not indicate an error and you can ignore this message): INVALID_ARGUMENT: You must feed a value for placeholder tensor 'Placeholder/_2' with dtype int64 and shape [2264]\n",
      "\t [[{{node Placeholder/_2}}]]\n"
     ]
    },
    {
     "name": "stdout",
     "output_type": "stream",
     "text": [
      "183/183 [==============================] - 51s 187ms/step - loss: 0.2153 - accuracy: 0.9249 - val_loss: 0.0393 - val_accuracy: 0.9862\n",
      "Epoch 2/5\n",
      "183/183 [==============================] - 29s 157ms/step - loss: 0.0516 - accuracy: 0.9829 - val_loss: 0.0368 - val_accuracy: 0.9917\n",
      "Epoch 3/5\n",
      "183/183 [==============================] - 28s 154ms/step - loss: 0.0309 - accuracy: 0.9942 - val_loss: 0.0260 - val_accuracy: 0.9945\n",
      "Epoch 4/5\n",
      "183/183 [==============================] - 29s 156ms/step - loss: 0.0111 - accuracy: 0.9956 - val_loss: 1.0154e-04 - val_accuracy: 1.0000\n",
      "Epoch 5/5\n",
      "183/183 [==============================] - 28s 150ms/step - loss: 0.0049 - accuracy: 0.9986 - val_loss: 0.0117 - val_accuracy: 0.9945\n"
     ]
    }
   ],
   "source": [
    "bert_classify_history_all = train_bert_model_extra(bert_classify_model, train_tfds_resampled, val_tfds)"
   ]
  },
  {
   "cell_type": "markdown",
   "metadata": {},
   "source": [
    "## In-depth Error Analysis"
   ]
  },
  {
   "cell_type": "code",
   "execution_count": 69,
   "metadata": {},
   "outputs": [
    {
     "data": {
      "image/png": "[encoded data removed]",
      "text/plain": [
       "<Figure size 640x480 with 1 Axes>"
      ]
     },
     "metadata": {},
     "output_type": "display_data"
    }
   ],
   "source": [
    "plot_bert_training(bert_classify_history_all)"
   ]
  },
  {
   "cell_type": "code",
   "execution_count": 70,
   "metadata": {},
   "outputs": [
    {
     "name": "stdout",
     "output_type": "stream",
     "text": [
      " 3/29 [==>...........................] - ETA: 1s - loss: 0.0020 - accuracy: 1.0000"
     ]
    },
    {
     "name": "stderr",
     "output_type": "stream",
     "text": [
      "2023-05-08 04:10:21.101563: I tensorflow/core/common_runtime/executor.cc:1197] [/device:CPU:0] (DEBUG INFO) Executor start aborting (this does not indicate an error and you can ignore this message): INVALID_ARGUMENT: You must feed a value for placeholder tensor 'Placeholder/_1' with dtype int64 and shape [2264,200]\n",
      "\t [[{{node Placeholder/_1}}]]\n"
     ]
    },
    {
     "name": "stdout",
     "output_type": "stream",
     "text": [
      "29/29 [==============================] - 2s 55ms/step - loss: 0.0031 - accuracy: 0.9978\n",
      "Classifier Accuracy(All layers):0.9978\n"
     ]
    }
   ],
   "source": [
    "accuracy_all_layer = bert_classify_model.evaluate(test_tfds.batch(16))[1]\n",
    "print(f\"Classifier Accuracy(All layers):{accuracy_all_layer:.4f}\")"
   ]
  },
  {
   "cell_type": "markdown",
   "metadata": {},
   "source": [
    "We evaluate our customized-classifier model on the out-of-sample test set, we actually found out that accuracy for this model is very high of 0.99, which indicates that our model is not overfitting and is very robust. "
   ]
  },
  {
   "cell_type": "code",
   "execution_count": 71,
   "metadata": {},
   "outputs": [
    {
     "name": "stderr",
     "output_type": "stream",
     "text": [
      "2023-05-08 04:10:22.834576: I tensorflow/core/common_runtime/executor.cc:1197] [/device:CPU:0] (DEBUG INFO) Executor start aborting (this does not indicate an error and you can ignore this message): INVALID_ARGUMENT: You must feed a value for placeholder tensor 'Placeholder/_2' with dtype int64 and shape [2264]\n",
      "\t [[{{node Placeholder/_2}}]]\n"
     ]
    },
    {
     "name": "stdout",
     "output_type": "stream",
     "text": [
      "Accuracy: 0.9647\n"
     ]
    }
   ],
   "source": [
    "true_labels_tfds = []\n",
    "predicted_labels_tfds = []\n",
    "\n",
    "for batch_inputs, batch_labels in test_tfds:\n",
    "    predictions = bert_classify_model.predict(batch_inputs, verbose=False)[0]\n",
    "    if len(predictions.shape) == 1:\n",
    "        batch_predicted_labels = [np.argmax(predictions)]\n",
    "    else:\n",
    "        batch_predicted_labels = np.argmax(predictions, axis=1)\n",
    "    true_labels_tfds.extend([batch_labels.numpy()])\n",
    "    predicted_labels_tfds.extend(batch_predicted_labels)\n",
    "\n",
    "accuracy = np.mean(np.array(predicted_labels_tfds) == np.array(true_labels_tfds))\n",
    "print(f\"Accuracy: {accuracy:.4f}\")"
   ]
  },
  {
   "cell_type": "markdown",
   "metadata": {},
   "source": [
    "To better evaluate the error for this model, we would try to get the predication labels predicted by the model. \\\n",
    "There are some small difference in accuracy between we predicted the label individually or through a batch, but the difference is small and negligible."
   ]
  },
  {
   "cell_type": "code",
   "execution_count": 72,
   "metadata": {},
   "outputs": [
    {
     "name": "stdout",
     "output_type": "stream",
     "text": [
      "+---+----+-----+----+\n",
      "|   | 0  |  1  | 2  |\n",
      "+---+----+-----+----+\n",
      "| 0 | 52 |  7  | 0  |\n",
      "| 1 | 0  | 287 | 1  |\n",
      "| 2 | 0  |  8  | 98 |\n",
      "+---+----+-----+----+\n"
     ]
    }
   ],
   "source": [
    "cm = confusion_matrix(true_labels_tfds, predicted_labels_tfds)\n",
    "cm_df = pd.DataFrame(cm)\n",
    "print(tabulate(cm_df,headers='keys', tablefmt='pretty'))"
   ]
  },
  {
   "cell_type": "markdown",
   "metadata": {},
   "source": [
    "We saw that mis-classification for this model is very low, the main error falls in data with label 1, which is neutral. \\\n",
    "It is highly possible that because class 1 data is more than other class, so model will more likely to mis classify on label 1.\\\n",
    "*This observation maybe inaccurate because this notebook could be run multiple times, which gives slightly different result*"
   ]
  },
  {
   "cell_type": "code",
   "execution_count": 73,
   "metadata": {},
   "outputs": [
    {
     "name": "stdout",
     "output_type": "stream",
     "text": [
      "+-----------+--------------------+--------------------+--------------------+\n",
      "|           |         0          |         1          |         2          |\n",
      "+-----------+--------------------+--------------------+--------------------+\n",
      "| precision |        1.0         | 0.9503311258278145 |  0.98989898989899  |\n",
      "|  recall   | 0.8813559322033898 | 0.9965277777777778 | 0.9245283018867925 |\n",
      "| f1 score  | 0.936936936936937  | 0.9728813559322034 | 0.9560975609756097 |\n",
      "+-----------+--------------------+--------------------+--------------------+\n"
     ]
    }
   ],
   "source": [
    "precision = precision_score(true_labels_tfds, predicted_labels_tfds, average=None)\n",
    "recall = recall_score(true_labels_tfds, predicted_labels_tfds, average=None)\n",
    "f1 = f1_score(true_labels_tfds, predicted_labels_tfds, average=None)\n",
    "\n",
    "performance_matrix = pd.DataFrame([precision, recall, f1],index=['precision','recall','f1 score'])\n",
    "# display(performance_matrix)\n",
    "print(tabulate(performance_matrix, headers='keys', tablefmt='pretty'))"
   ]
  },
  {
   "cell_type": "markdown",
   "metadata": {},
   "source": [
    "From the performance matrix, we further assess the accuracy for each class. \\\n",
    "We could see that the precision, recall and f1 score for all 3 class is above 0.9, which indicates that this model is very robust and does not have data imbalance issue.\\\n",
    "*This observation maybe inaccurate because this notebook could be run multiple times, which gives slightly different result*"
   ]
  },
  {
   "cell_type": "code",
   "execution_count": 74,
   "metadata": {},
   "outputs": [
    {
     "data": {
      "image/png": "[encoded data removed]",
      "text/plain": [
       "<Figure size 640x480 with 1 Axes>"
      ]
     },
     "metadata": {},
     "output_type": "display_data"
    }
   ],
   "source": [
    "label_binarizer = LabelBinarizer()\n",
    "true_labels_tfds_one_hot = label_binarizer.fit_transform(true_labels_tfds)\n",
    "predicted_labels_tfds_one_hot = label_binarizer.transform(predicted_labels_tfds)\n",
    "fpr = dict()\n",
    "tpr = dict()\n",
    "roc_auc = dict()\n",
    "for i in range(3):\n",
    "    fpr[i], tpr[i], _ = roc_curve(true_labels_tfds_one_hot[:, i], predicted_labels_tfds_one_hot[:, i])\n",
    "    roc_auc[i] = auc(fpr[i], tpr[i])\n",
    "\n",
    "plt.figure()\n",
    "for i in range(3):\n",
    "    plt.plot(fpr[i], tpr[i], label=f'ROC curve of class {i} (area = {roc_auc[i]:.2f})')\n",
    "\n",
    "plt.plot([0, 1], [0, 1], 'k--')\n",
    "plt.xlim([0.0, 1.0])\n",
    "plt.ylim([0.0, 1.05])\n",
    "plt.xlabel('False Positive Rate')\n",
    "plt.ylabel('True Positive Rate')\n",
    "plt.title('ROC for 3-class Classification')\n",
    "plt.legend(loc=\"lower right\")\n",
    "plt.show()"
   ]
  },
  {
   "cell_type": "markdown",
   "metadata": {},
   "source": [
    "From the ROC/AUC curve, we could found that the overall accuracy of model is relative high, with all AUC score higher than 0.95, which indicates that this model is robust.\\\n",
    "*This observation maybe inaccurate because this notebook could be run multiple times, which gives slightly different result*"
   ]
  },
  {
   "cell_type": "code",
   "execution_count": 75,
   "metadata": {},
   "outputs": [
    {
     "name": "stdout",
     "output_type": "stream",
     "text": [
      "+---+----+-----+----+\n",
      "|   | 0  |  1  | 2  |\n",
      "+---+----+-----+----+\n",
      "| 0 | 52 |  7  | 0  |\n",
      "| 1 | 0  | 287 | 1  |\n",
      "| 2 | 0  |  8  | 98 |\n",
      "+---+----+-----+----+\n"
     ]
    }
   ],
   "source": [
    "print(tabulate(cm_df,headers='keys', tablefmt='pretty'))"
   ]
  },
  {
   "cell_type": "markdown",
   "metadata": {},
   "source": [
    "Recall the confusion matrix, indeed, as we observed in the confusion matrix, we found a pattern that the misclassification rate for label 1 as label 2 in relative high. \\\n",
    "It is understandable for some neutral text is more likely to classified as positive text because people might have different interpretation for a neutral text, same applies for the model."
   ]
  },
  {
   "cell_type": "markdown",
   "metadata": {},
   "source": [
    "## Use different \"flavors\" of the dataset"
   ]
  },
  {
   "cell_type": "markdown",
   "metadata": {},
   "source": [
    "We would like to see if our model still performs well when applying to 66% agreed dataset. \\\n",
    "We choose 66% because it means sentence classification is still majority agreed. \\\n",
    "I will follow the process and model of the basic part."
   ]
  },
  {
   "cell_type": "code",
   "execution_count": 76,
   "metadata": {},
   "outputs": [
    {
     "name": "stderr",
     "output_type": "stream",
     "text": [
      "Found cached dataset financial_phrasebank (/home/jl8831/.cache/huggingface/datasets/financial_phrasebank/sentences_66agree/1.0.0/550bde12e6c30e2674da973a55f57edde5181d53f5a5a34c1531c53f93b7e141)\n"
     ]
    },
    {
     "data": {
      "application/vnd.jupyter.widget-view+json": {
       "model_id": "33b9f61c71904aadb9e29a23eadb2238",
       "version_major": 2,
       "version_minor": 0
      },
      "text/plain": [
       "  0%|          | 0/1 [00:00<?, ?it/s]"
      ]
     },
     "metadata": {},
     "output_type": "display_data"
    }
   ],
   "source": [
    "raw_data_66 = load_dataset(\"financial_phrasebank\", \"sentences_66agree\")"
   ]
  },
  {
   "cell_type": "markdown",
   "metadata": {},
   "source": [
    "### Preprocessing, tokenize and oversampling"
   ]
  },
  {
   "cell_type": "code",
   "execution_count": 77,
   "metadata": {},
   "outputs": [
    {
     "name": "stdout",
     "output_type": "stream",
     "text": [
      "Data in training set: 2698\n",
      "Data in validation set: 675\n",
      "Data in test set: 844\n"
     ]
    }
   ],
   "source": [
    "test_size = 0.2\n",
    "raw_data_split_66 = raw_data_66['train'].train_test_split(test_size=test_size)\n",
    "train_temp_set_66 = raw_data_split_66['train']\n",
    "test_set_66 = raw_data_split_66['test']\n",
    "train_temp_set_split_66 = train_temp_set_66.train_test_split(test_size=test_size)\n",
    "train_set_66 = train_temp_set_split_66['train']\n",
    "val_set_66 = train_temp_set_split_66['test']\n",
    "print(\"Data in training set:\",len(train_set_66))\n",
    "print(\"Data in validation set:\",len(val_set_66))\n",
    "print(\"Data in test set:\",len(test_set_66))"
   ]
  },
  {
   "cell_type": "code",
   "execution_count": 78,
   "metadata": {},
   "outputs": [],
   "source": [
    "train_df_66 = train_set_66.to_pandas()"
   ]
  },
  {
   "cell_type": "code",
   "execution_count": 79,
   "metadata": {},
   "outputs": [
    {
     "data": {
      "image/png": "[encoded data removed]",
      "text/plain": [
       "<Figure size 640x480 with 1 Axes>"
      ]
     },
     "metadata": {},
     "output_type": "display_data"
    }
   ],
   "source": [
    "sns.countplot(data=train_df_66, x='label')\n",
    "plt.title('Distribution of Labels')\n",
    "plt.xlabel('Label')\n",
    "plt.ylabel('Count')\n",
    "plt.show()"
   ]
  },
  {
   "cell_type": "code",
   "execution_count": 80,
   "metadata": {},
   "outputs": [],
   "source": [
    "train_list_66 = train_set_66['sentence']\n",
    "train_label_66 = train_set_66['label']\n",
    "val_list_66 = val_set_66['sentence']\n",
    "val_label_66 = val_set_66['label']\n",
    "test_list_66 = test_set_66['sentence']\n",
    "test_label_66 = test_set_66['label']"
   ]
  },
  {
   "cell_type": "code",
   "execution_count": 81,
   "metadata": {},
   "outputs": [],
   "source": [
    "checkpoint = \"distilbert-base-uncased\"\n",
    "tokenizer_66 = AutoTokenizer.from_pretrained(checkpoint)\n",
    "train_input_66, train_label_66 = tokenize_dataset(train_list_66, train_label_66, tokenizer_66)\n",
    "val_input_66, val_label_66 = tokenize_dataset(val_list_66, val_label_66, tokenizer_66)\n",
    "test_input_66, test_label_66 = tokenize_dataset(test_list_66, test_label_66, tokenizer_66)"
   ]
  },
  {
   "cell_type": "code",
   "execution_count": 82,
   "metadata": {},
   "outputs": [],
   "source": [
    "train_input_resampled_66, train_label_resampled_66 = oversampling_bert(train_input_66, train_label_66)"
   ]
  },
  {
   "cell_type": "markdown",
   "metadata": {},
   "source": [
    "### Train the model"
   ]
  },
  {
   "cell_type": "code",
   "execution_count": 83,
   "metadata": {},
   "outputs": [
    {
     "name": "stderr",
     "output_type": "stream",
     "text": [
      "Some layers from the model checkpoint at distilbert-base-uncased were not used when initializing TFDistilBertForSequenceClassification: ['vocab_layer_norm', 'activation_13', 'vocab_projector', 'vocab_transform']\n",
      "- This IS expected if you are initializing TFDistilBertForSequenceClassification from the checkpoint of a model trained on another task or with another architecture (e.g. initializing a BertForSequenceClassification model from a BertForPreTraining model).\n",
      "- This IS NOT expected if you are initializing TFDistilBertForSequenceClassification from the checkpoint of a model that you expect to be exactly identical (initializing a BertForSequenceClassification model from a BertForSequenceClassification model).\n",
      "Some layers of TFDistilBertForSequenceClassification were not initialized from the model checkpoint at distilbert-base-uncased and are newly initialized: ['dropout_60', 'pre_classifier', 'classifier']\n",
      "You should probably TRAIN this model on a down-stream task to be able to use it for predictions and inference.\n"
     ]
    }
   ],
   "source": [
    "checkpoint = \"distilbert-base-uncased\"\n",
    "bert_model_66 = TFAutoModelForSequenceClassification.from_pretrained(checkpoint, num_labels=3)"
   ]
  },
  {
   "cell_type": "markdown",
   "metadata": {},
   "source": [
    "Train the head first"
   ]
  },
  {
   "cell_type": "code",
   "execution_count": 84,
   "metadata": {},
   "outputs": [],
   "source": [
    "bert_model_66.layers[0].trainable = False\n",
    "bert_model_66.compile(optimizer=tf.keras.optimizers.Adam(learning_rate=1e-4), \n",
    "                  loss = SparseCategoricalCrossentropy(from_logits=True), \n",
    "                  metrics=[\"accuracy\"]\n",
    "            )"
   ]
  },
  {
   "cell_type": "code",
   "execution_count": 85,
   "metadata": {},
   "outputs": [
    {
     "name": "stdout",
     "output_type": "stream",
     "text": [
      "Epoch 1/5\n",
      "310/310 [==============================] - 27s 72ms/step - loss: 0.8618 - accuracy: 0.6173 - val_loss: 0.6941 - val_accuracy: 0.7333\n",
      "Epoch 2/5\n",
      "310/310 [==============================] - 21s 68ms/step - loss: 0.6472 - accuracy: 0.7202 - val_loss: 0.7307 - val_accuracy: 0.6844\n",
      "Epoch 3/5\n",
      "310/310 [==============================] - 21s 68ms/step - loss: 0.5650 - accuracy: 0.7633 - val_loss: 0.5538 - val_accuracy: 0.7644\n",
      "Epoch 4/5\n",
      "310/310 [==============================] - 21s 68ms/step - loss: 0.5244 - accuracy: 0.7801 - val_loss: 0.5256 - val_accuracy: 0.7852\n",
      "Epoch 5/5\n",
      "310/310 [==============================] - 21s 68ms/step - loss: 0.5006 - accuracy: 0.7902 - val_loss: 0.5569 - val_accuracy: 0.7630\n"
     ]
    }
   ],
   "source": [
    "bert_history_head_66 = train_bert_model(bert_model_66, train_input_resampled_66, train_label_resampled_66,val_input_66,val_label_66)"
   ]
  },
  {
   "cell_type": "markdown",
   "metadata": {},
   "source": [
    "Train all layers"
   ]
  },
  {
   "cell_type": "code",
   "execution_count": 86,
   "metadata": {},
   "outputs": [],
   "source": [
    "bert_model_66.layers[0].trainable = True\n",
    "bert_model_66.compile(optimizer=tf.keras.optimizers.Adam(learning_rate=5e-5), \n",
    "                  loss = SparseCategoricalCrossentropy(from_logits=True), \n",
    "                  metrics=[\"accuracy\"]\n",
    "            )"
   ]
  },
  {
   "cell_type": "code",
   "execution_count": 87,
   "metadata": {},
   "outputs": [
    {
     "name": "stdout",
     "output_type": "stream",
     "text": [
      "Epoch 1/5\n",
      "310/310 [==============================] - 70s 177ms/step - loss: 0.2698 - accuracy: 0.8973 - val_loss: 0.3305 - val_accuracy: 0.8711\n",
      "Epoch 2/5\n",
      "310/310 [==============================] - 48s 154ms/step - loss: 0.0688 - accuracy: 0.9772 - val_loss: 0.4369 - val_accuracy: 0.8770\n",
      "Epoch 3/5\n",
      "310/310 [==============================] - 47s 153ms/step - loss: 0.0353 - accuracy: 0.9911 - val_loss: 0.6335 - val_accuracy: 0.8874\n",
      "Epoch 4/5\n",
      "310/310 [==============================] - 47s 152ms/step - loss: 0.0353 - accuracy: 0.9897 - val_loss: 0.5437 - val_accuracy: 0.8652\n"
     ]
    }
   ],
   "source": [
    "bert_history_66 = train_bert_model(bert_model_66, train_input_resampled_66, train_label_resampled_66,val_input_66,val_label_66)"
   ]
  },
  {
   "cell_type": "markdown",
   "metadata": {},
   "source": [
    "### Evaluate the result and Error Analysis"
   ]
  },
  {
   "cell_type": "code",
   "execution_count": 88,
   "metadata": {},
   "outputs": [
    {
     "data": {
      "image/png": "[encoded data removed]",
      "text/plain": [
       "<Figure size 640x480 with 1 Axes>"
      ]
     },
     "metadata": {},
     "output_type": "display_data"
    }
   ],
   "source": [
    "plot_bert_training(bert_history_66)"
   ]
  },
  {
   "cell_type": "code",
   "execution_count": 89,
   "metadata": {},
   "outputs": [
    {
     "name": "stdout",
     "output_type": "stream",
     "text": [
      "27/27 [==============================] - 4s 91ms/step\n",
      "Accuracy: 0.8921800947867299\n"
     ]
    }
   ],
   "source": [
    "predictions_66 = bert_model_66.predict(test_input_66)\n",
    "logits = predictions_66.logits\n",
    "probabilities = scipy.special.softmax(logits, axis=1)\n",
    "predicted_labels_66 = np.argmax(probabilities, axis=1)\n",
    "accuracy_66 = accuracy_score(test_label_66, predicted_labels_66)\n",
    "print(\"Accuracy:\", accuracy_66)"
   ]
  },
  {
   "cell_type": "code",
   "execution_count": 90,
   "metadata": {},
   "outputs": [
    {
     "name": "stdout",
     "output_type": "stream",
     "text": [
      "+-----------+--------------------+--------------------+--------------------+\n",
      "|           |         0          |         1          |         2          |\n",
      "+-----------+--------------------+--------------------+--------------------+\n",
      "| precision | 0.897196261682243  |  0.89272030651341  | 0.8883720930232558 |\n",
      "|  recall   | 0.7868852459016393 | 0.9510204081632653 | 0.8232758620689655 |\n",
      "| f1 score  | 0.8384279475982532 | 0.9209486166007905 | 0.8545861297539149 |\n",
      "+-----------+--------------------+--------------------+--------------------+\n"
     ]
    }
   ],
   "source": [
    "precision_66 = precision_score(test_label_66, predicted_labels_66, average=None)\n",
    "recall_66 = recall_score(test_label_66, predicted_labels_66, average=None)\n",
    "f1_66 = f1_score(test_label_66, predicted_labels_66, average=None)\n",
    "performance_matrix_66 = pd.DataFrame([precision_66, recall_66, f1_66],index=['precision','recall','f1 score'])\n",
    "print(tabulate(performance_matrix_66, headers='keys', tablefmt='pretty'))"
   ]
  },
  {
   "cell_type": "markdown",
   "metadata": {},
   "source": [
    "### Discussion of using different \"flavors\" dataset"
   ]
  },
  {
   "cell_type": "markdown",
   "metadata": {},
   "source": [
    "As we tried a different flavor of dataset of 66% agreed, we actually observe that the accuracy for the distilbert model decreased slightly, dropping from around 95%+ to around 85%-90%. \\\n",
    "The result is not a surprise given that only 66% of human agreed on the label and the model is still able to get decent result above 85%. \\\n",
    "Also, the mis-classification rate for label 0 and 2 is higher than label 1(neutral), compared with the all-agreed flavors where mis-classification rate is around the same for all 3 classes, it may signal that these mis-classified sentences are not even all-agreed by humans."
   ]
  },
  {
   "cell_type": "markdown",
   "metadata": {},
   "source": [
    "## Experiment with different Pre-Trained models"
   ]
  },
  {
   "cell_type": "markdown",
   "metadata": {},
   "source": [
    "In this part, I will try to use the bert-model rather than distilbert model and compare the accuracy. I will use the same data input as in the basic part."
   ]
  },
  {
   "cell_type": "code",
   "execution_count": 91,
   "metadata": {},
   "outputs": [],
   "source": [
    "checkpoint = \"bert-base-uncased\"\n",
    "tokenizer = AutoTokenizer.from_pretrained(checkpoint)\n",
    "train_input_bert, train_label_bert = tokenize_dataset(train_list, train_label, tokenizer)\n",
    "val_input_bert, val_label_bert = tokenize_dataset(val_list, val_label, tokenizer)\n",
    "test_input_bert, test_label_bert = tokenize_dataset(test_list, test_label, tokenizer)\n",
    "train_input_resampled_bert, train_label_resampled_bert = oversampling_bert(train_input_bert, train_label_bert)"
   ]
  },
  {
   "cell_type": "code",
   "execution_count": 92,
   "metadata": {},
   "outputs": [
    {
     "name": "stderr",
     "output_type": "stream",
     "text": [
      "All model checkpoint layers were used when initializing TFBertForSequenceClassification.\n",
      "\n",
      "Some layers of TFBertForSequenceClassification were not initialized from the model checkpoint at bert-base-uncased and are newly initialized: ['classifier']\n",
      "You should probably TRAIN this model on a down-stream task to be able to use it for predictions and inference.\n"
     ]
    }
   ],
   "source": [
    "checkpoint = \"bert-base-uncased\"\n",
    "bert_model_bert = TFAutoModelForSequenceClassification.from_pretrained(checkpoint, num_labels=3)"
   ]
  },
  {
   "cell_type": "code",
   "execution_count": 93,
   "metadata": {},
   "outputs": [
    {
     "name": "stdout",
     "output_type": "stream",
     "text": [
      "Model: \"tf_bert_for_sequence_classification\"\n",
      "_________________________________________________________________\n",
      " Layer (type)                Output Shape              Param #   \n",
      "=================================================================\n",
      " bert (TFBertMainLayer)      multiple                  109482240 \n",
      "                                                                 \n",
      " dropout_98 (Dropout)        multiple                  0         \n",
      "                                                                 \n",
      " classifier (Dense)          multiple                  2307      \n",
      "                                                                 \n",
      "=================================================================\n",
      "Total params: 109,484,547\n",
      "Trainable params: 109,484,547\n",
      "Non-trainable params: 0\n",
      "_________________________________________________________________\n"
     ]
    }
   ],
   "source": [
    "bert_model_bert.summary()"
   ]
  },
  {
   "cell_type": "markdown",
   "metadata": {},
   "source": [
    "Train the head first"
   ]
  },
  {
   "cell_type": "code",
   "execution_count": 94,
   "metadata": {},
   "outputs": [],
   "source": [
    "bert_model_bert.layers[0].trainable = False\n",
    "bert_model_bert.compile(optimizer=tf.keras.optimizers.Adam(learning_rate=1e-4), \n",
    "                  loss = SparseCategoricalCrossentropy(from_logits=True), \n",
    "                  metrics=[\"accuracy\"]\n",
    "            )"
   ]
  },
  {
   "cell_type": "code",
   "execution_count": 95,
   "metadata": {},
   "outputs": [
    {
     "name": "stdout",
     "output_type": "stream",
     "text": [
      "Epoch 1/5\n",
      "167/167 [==============================] - 35s 151ms/step - loss: 1.0733 - accuracy: 0.4071 - val_loss: 1.0525 - val_accuracy: 0.4628\n",
      "Epoch 2/5\n",
      "167/167 [==============================] - 23s 137ms/step - loss: 1.0405 - accuracy: 0.4596 - val_loss: 1.0089 - val_accuracy: 0.5344\n",
      "Epoch 3/5\n",
      "167/167 [==============================] - 23s 135ms/step - loss: 1.0117 - accuracy: 0.4944 - val_loss: 1.0301 - val_accuracy: 0.4683\n",
      "Epoch 4/5\n",
      "167/167 [==============================] - 23s 137ms/step - loss: 0.9935 - accuracy: 0.4996 - val_loss: 1.0037 - val_accuracy: 0.5014\n",
      "Epoch 5/5\n",
      "167/167 [==============================] - 23s 137ms/step - loss: 0.9699 - accuracy: 0.5588 - val_loss: 0.9219 - val_accuracy: 0.6226\n"
     ]
    }
   ],
   "source": [
    "bert_history_head_bert = train_bert_model(bert_model_bert, train_input_resampled_bert, train_label_resampled_bert,val_input_bert,val_label_bert)"
   ]
  },
  {
   "cell_type": "markdown",
   "metadata": {},
   "source": [
    "Train all layers"
   ]
  },
  {
   "cell_type": "code",
   "execution_count": 96,
   "metadata": {},
   "outputs": [],
   "source": [
    "bert_model_bert.layers[0].trainable = True\n",
    "bert_model_bert.compile(optimizer=tf.keras.optimizers.Adam(learning_rate=5e-5), \n",
    "                  loss = SparseCategoricalCrossentropy(from_logits=True), \n",
    "                  metrics=[\"accuracy\"]\n",
    "            )"
   ]
  },
  {
   "cell_type": "code",
   "execution_count": 97,
   "metadata": {},
   "outputs": [
    {
     "name": "stdout",
     "output_type": "stream",
     "text": [
      "Epoch 1/5\n",
      "167/167 [==============================] - 86s 327ms/step - loss: 0.2251 - accuracy: 0.9169 - val_loss: 0.0874 - val_accuracy: 0.9752\n",
      "Epoch 2/5\n",
      "167/167 [==============================] - 51s 303ms/step - loss: 0.0390 - accuracy: 0.9906 - val_loss: 0.1505 - val_accuracy: 0.9587\n",
      "Epoch 3/5\n",
      "167/167 [==============================] - 50s 301ms/step - loss: 0.0335 - accuracy: 0.9910 - val_loss: 0.2189 - val_accuracy: 0.9449\n",
      "Epoch 4/5\n",
      "167/167 [==============================] - 50s 302ms/step - loss: 0.0378 - accuracy: 0.9914 - val_loss: 0.2361 - val_accuracy: 0.9449\n"
     ]
    }
   ],
   "source": [
    "bert_history_bert = train_bert_model(bert_model_bert, train_input_resampled_bert, train_label_resampled_bert,val_input_bert,val_label_bert)"
   ]
  },
  {
   "cell_type": "markdown",
   "metadata": {},
   "source": [
    "### Evaluate the result and Error Analysis"
   ]
  },
  {
   "cell_type": "code",
   "execution_count": 98,
   "metadata": {},
   "outputs": [
    {
     "name": "stdout",
     "output_type": "stream",
     "text": [
      "15/15 [==============================] - 5s 179ms/step\n",
      "Accuracy: 0.9690949227373068\n"
     ]
    }
   ],
   "source": [
    "predictions_bert = bert_model_bert.predict(test_input_bert)\n",
    "logits = predictions_bert.logits\n",
    "probabilities = scipy.special.softmax(logits, axis=1)\n",
    "predicted_labels_bert = np.argmax(probabilities, axis=1)\n",
    "accuracy_bert = accuracy_score(test_label_bert, predicted_labels_bert)\n",
    "print(\"Accuracy:\", accuracy_bert)"
   ]
  },
  {
   "cell_type": "markdown",
   "metadata": {},
   "source": [
    "### Also try with RoBERTa model"
   ]
  },
  {
   "cell_type": "code",
   "execution_count": 99,
   "metadata": {},
   "outputs": [],
   "source": [
    "checkpoint = \"xlm-roberta-base\"\n",
    "tokenizer = AutoTokenizer.from_pretrained(checkpoint)\n",
    "train_input_roberta, train_label_roberta = tokenize_dataset(train_list, train_label, tokenizer)\n",
    "val_input_roberta, val_label_roberta = tokenize_dataset(val_list, val_label, tokenizer)\n",
    "test_input_roberta, test_label_roberta = tokenize_dataset(test_list, test_label, tokenizer)"
   ]
  },
  {
   "cell_type": "code",
   "execution_count": 100,
   "metadata": {},
   "outputs": [],
   "source": [
    "train_input_resampled_roberta, train_label_resampled_roberta = oversampling_bert(train_input_roberta, train_label_roberta)"
   ]
  },
  {
   "cell_type": "code",
   "execution_count": 101,
   "metadata": {},
   "outputs": [
    {
     "name": "stderr",
     "output_type": "stream",
     "text": [
      "All model checkpoint layers were used when initializing TFXLMRobertaForSequenceClassification.\n",
      "\n",
      "Some layers of TFXLMRobertaForSequenceClassification were not initialized from the model checkpoint at xlm-roberta-base and are newly initialized: ['classifier']\n",
      "You should probably TRAIN this model on a down-stream task to be able to use it for predictions and inference.\n"
     ]
    }
   ],
   "source": [
    "checkpoint = \"xlm-roberta-base\"\n",
    "bert_model_roberta = TFAutoModelForSequenceClassification.from_pretrained(checkpoint, num_labels=3)"
   ]
  },
  {
   "cell_type": "code",
   "execution_count": 102,
   "metadata": {},
   "outputs": [
    {
     "name": "stdout",
     "output_type": "stream",
     "text": [
      "Model: \"tfxlm_roberta_for_sequence_classification\"\n",
      "_________________________________________________________________\n",
      " Layer (type)                Output Shape              Param #   \n",
      "=================================================================\n",
      " roberta (TFXLMRobertaMainLa  multiple                 277453056 \n",
      " yer)                                                            \n",
      "                                                                 \n",
      " classifier (TFXLMRobertaCla  multiple                 592899    \n",
      " ssificationHead)                                                \n",
      "                                                                 \n",
      "=================================================================\n",
      "Total params: 278,045,955\n",
      "Trainable params: 278,045,955\n",
      "Non-trainable params: 0\n",
      "_________________________________________________________________\n"
     ]
    }
   ],
   "source": [
    "bert_model_roberta.summary()"
   ]
  },
  {
   "cell_type": "markdown",
   "metadata": {},
   "source": [
    "Train the head first"
   ]
  },
  {
   "cell_type": "code",
   "execution_count": 103,
   "metadata": {},
   "outputs": [],
   "source": [
    "bert_model_roberta.layers[0].trainable = False\n",
    "bert_model_roberta.compile(optimizer=tf.keras.optimizers.Adam(learning_rate=1e-4), \n",
    "                  loss = SparseCategoricalCrossentropy(from_logits=True), \n",
    "                  metrics=[\"accuracy\"]\n",
    "            )"
   ]
  },
  {
   "cell_type": "code",
   "execution_count": 104,
   "metadata": {},
   "outputs": [
    {
     "name": "stdout",
     "output_type": "stream",
     "text": [
      "Epoch 1/5\n",
      "167/167 [==============================] - 37s 156ms/step - loss: 1.0372 - accuracy: 0.4708 - val_loss: 0.9499 - val_accuracy: 0.7383\n",
      "Epoch 2/5\n",
      "167/167 [==============================] - 23s 139ms/step - loss: 0.9399 - accuracy: 0.5704 - val_loss: 0.8833 - val_accuracy: 0.7493\n",
      "Epoch 3/5\n",
      "167/167 [==============================] - 23s 139ms/step - loss: 0.8710 - accuracy: 0.6172 - val_loss: 0.7654 - val_accuracy: 0.6722\n",
      "Epoch 4/5\n",
      "167/167 [==============================] - 23s 140ms/step - loss: 0.8368 - accuracy: 0.6202 - val_loss: 0.7050 - val_accuracy: 0.7438\n",
      "Epoch 5/5\n",
      "167/167 [==============================] - 23s 139ms/step - loss: 0.8174 - accuracy: 0.6431 - val_loss: 0.6886 - val_accuracy: 0.7603\n"
     ]
    }
   ],
   "source": [
    "bert_history_head_roberta = train_bert_model(bert_model_roberta, train_input_resampled_roberta, train_label_resampled_roberta,val_input_roberta,val_label_roberta)"
   ]
  },
  {
   "cell_type": "markdown",
   "metadata": {},
   "source": [
    "Train all layers"
   ]
  },
  {
   "cell_type": "code",
   "execution_count": 105,
   "metadata": {},
   "outputs": [],
   "source": [
    "bert_model_roberta.layers[0].trainable = True\n",
    "bert_model_roberta.compile(optimizer=tf.keras.optimizers.Adam(learning_rate=5e-5), \n",
    "                  loss = SparseCategoricalCrossentropy(from_logits=True), \n",
    "                  metrics=[\"accuracy\"]\n",
    "            )"
   ]
  },
  {
   "cell_type": "code",
   "execution_count": 106,
   "metadata": {},
   "outputs": [
    {
     "name": "stdout",
     "output_type": "stream",
     "text": [
      "Epoch 1/5\n",
      "167/167 [==============================] - 100s 409ms/step - loss: 0.2994 - accuracy: 0.9082 - val_loss: 0.2615 - val_accuracy: 0.9504\n",
      "Epoch 2/5\n",
      "167/167 [==============================] - 56s 335ms/step - loss: 0.1388 - accuracy: 0.9637 - val_loss: 0.1509 - val_accuracy: 0.9504\n",
      "Epoch 3/5\n",
      "167/167 [==============================] - 54s 322ms/step - loss: 0.0835 - accuracy: 0.9790 - val_loss: 0.2257 - val_accuracy: 0.9366\n",
      "Epoch 4/5\n",
      "167/167 [==============================] - 53s 319ms/step - loss: 0.1374 - accuracy: 0.9577 - val_loss: 0.2258 - val_accuracy: 0.9587\n",
      "Epoch 5/5\n",
      "167/167 [==============================] - 54s 322ms/step - loss: 0.0656 - accuracy: 0.9828 - val_loss: 0.2378 - val_accuracy: 0.9421\n"
     ]
    }
   ],
   "source": [
    "bert_history_roberta = train_bert_model(bert_model_roberta, train_input_resampled_roberta, train_label_resampled_roberta,val_input_roberta,val_label_roberta)"
   ]
  },
  {
   "cell_type": "markdown",
   "metadata": {},
   "source": [
    "### Evaluate the result and Error Analysis"
   ]
  },
  {
   "cell_type": "code",
   "execution_count": 107,
   "metadata": {},
   "outputs": [
    {
     "name": "stdout",
     "output_type": "stream",
     "text": [
      "15/15 [==============================] - 5s 179ms/step\n",
      "Accuracy: 0.9470198675496688\n"
     ]
    }
   ],
   "source": [
    "predictions_roberta = bert_model_roberta.predict(test_input_roberta)\n",
    "logits = predictions_roberta.logits\n",
    "probabilities = scipy.special.softmax(logits, axis=1)\n",
    "predicted_labels_roberta = np.argmax(probabilities, axis=1)\n",
    "accuracy_roberta = accuracy_score(test_label_roberta, predicted_labels_roberta)\n",
    "print(\"Accuracy:\", accuracy_roberta)"
   ]
  },
  {
   "cell_type": "markdown",
   "metadata": {},
   "source": [
    "### Compare the performance of distilBert, Bert and RoBERTa and discuss"
   ]
  },
  {
   "cell_type": "code",
   "execution_count": 108,
   "metadata": {},
   "outputs": [
    {
     "name": "stdout",
     "output_type": "stream",
     "text": [
      "+------------+--------------------+\n",
      "|            |   model accuracy   |\n",
      "+------------+--------------------+\n",
      "| distilbert | 0.9580573951434879 |\n",
      "|    bert    | 0.9690949227373068 |\n",
      "|  RoBERTa   | 0.9470198675496688 |\n",
      "+------------+--------------------+\n"
     ]
    }
   ],
   "source": [
    "performance_comp = pd.DataFrame([accuracy_distilbert, accuracy_bert, accuracy_roberta],index=['distilbert','bert', 'RoBERTa'],columns=['model accuracy'])\n",
    "print(tabulate(performance_comp, headers='keys', tablefmt='pretty'))"
   ]
  },
  {
   "cell_type": "markdown",
   "metadata": {},
   "source": [
    "We could see that all three models have very close accuracy around 95% on out-of-sample dataset. \\\n",
    "This result shows that even with more parameters and more complex, the bert-base model and RoBERTa model does not outperform the distilbert model. \\\n",
    "This may also infer that current accuracy is hardly to be improved. "
   ]
  },
  {
   "cell_type": "markdown",
   "metadata": {},
   "source": [
    "## Experiment with Fine-Tuning"
   ]
  },
  {
   "cell_type": "markdown",
   "metadata": {},
   "source": [
    "### Main question:\n",
    "**Does out of sample performance vary with changing**\n",
    "- the number of examples in Fine-Tuning\n",
    "    - what is the smallest number that you think is sufficient\n",
    "- there are many choices of proper subsets of a given size\n",
    "    - does it matter which one you choose ?\n"
   ]
  },
  {
   "cell_type": "markdown",
   "metadata": {},
   "source": [
    "We import the model and follow the process for basic part first"
   ]
  },
  {
   "cell_type": "code",
   "execution_count": 109,
   "metadata": {},
   "outputs": [
    {
     "name": "stderr",
     "output_type": "stream",
     "text": [
      "Some layers from the model checkpoint at distilbert-base-uncased were not used when initializing TFDistilBertForSequenceClassification: ['vocab_layer_norm', 'activation_13', 'vocab_projector', 'vocab_transform']\n",
      "- This IS expected if you are initializing TFDistilBertForSequenceClassification from the checkpoint of a model trained on another task or with another architecture (e.g. initializing a BertForSequenceClassification model from a BertForPreTraining model).\n",
      "- This IS NOT expected if you are initializing TFDistilBertForSequenceClassification from the checkpoint of a model that you expect to be exactly identical (initializing a BertForSequenceClassification model from a BertForSequenceClassification model).\n",
      "Some layers of TFDistilBertForSequenceClassification were not initialized from the model checkpoint at distilbert-base-uncased and are newly initialized: ['pre_classifier', 'dropout_156', 'classifier']\n",
      "You should probably TRAIN this model on a down-stream task to be able to use it for predictions and inference.\n"
     ]
    }
   ],
   "source": [
    "checkpoint = \"distilbert-base-uncased\"\n",
    "bert_model = TFAutoModelForSequenceClassification.from_pretrained(checkpoint, num_labels=3)"
   ]
  },
  {
   "cell_type": "markdown",
   "metadata": {},
   "source": [
    "We try to reduce the training set size, to see what size is sufficient to train the model and retain moderate accuracy"
   ]
  },
  {
   "cell_type": "code",
   "execution_count": 110,
   "metadata": {},
   "outputs": [
    {
     "name": "stderr",
     "output_type": "stream",
     "text": [
      "Some layers from the model checkpoint at distilbert-base-uncased were not used when initializing TFDistilBertForSequenceClassification: ['vocab_layer_norm', 'activation_13', 'vocab_projector', 'vocab_transform']\n",
      "- This IS expected if you are initializing TFDistilBertForSequenceClassification from the checkpoint of a model trained on another task or with another architecture (e.g. initializing a BertForSequenceClassification model from a BertForPreTraining model).\n",
      "- This IS NOT expected if you are initializing TFDistilBertForSequenceClassification from the checkpoint of a model that you expect to be exactly identical (initializing a BertForSequenceClassification model from a BertForSequenceClassification model).\n",
      "Some layers of TFDistilBertForSequenceClassification were not initialized from the model checkpoint at distilbert-base-uncased and are newly initialized: ['pre_classifier', 'classifier', 'dropout_176']\n",
      "You should probably TRAIN this model on a down-stream task to be able to use it for predictions and inference.\n",
      "Loading cached shuffled indices for dataset at /home/jl8831/.cache/huggingface/datasets/financial_phrasebank/sentences_allagree/1.0.0/550bde12e6c30e2674da973a55f57edde5181d53f5a5a34c1531c53f93b7e141/cache-42903ee15fefc06d.arrow\n",
      "Some layers from the model checkpoint at distilbert-base-uncased were not used when initializing TFDistilBertForSequenceClassification: ['vocab_layer_norm', 'activation_13', 'vocab_projector', 'vocab_transform']\n",
      "- This IS expected if you are initializing TFDistilBertForSequenceClassification from the checkpoint of a model trained on another task or with another architecture (e.g. initializing a BertForSequenceClassification model from a BertForPreTraining model).\n",
      "- This IS NOT expected if you are initializing TFDistilBertForSequenceClassification from the checkpoint of a model that you expect to be exactly identical (initializing a BertForSequenceClassification model from a BertForSequenceClassification model).\n",
      "Some layers of TFDistilBertForSequenceClassification were not initialized from the model checkpoint at distilbert-base-uncased and are newly initialized: ['pre_classifier', 'dropout_196', 'classifier']\n",
      "You should probably TRAIN this model on a down-stream task to be able to use it for predictions and inference.\n",
      "Loading cached shuffled indices for dataset at /home/jl8831/.cache/huggingface/datasets/financial_phrasebank/sentences_allagree/1.0.0/550bde12e6c30e2674da973a55f57edde5181d53f5a5a34c1531c53f93b7e141/cache-42903ee15fefc06d.arrow\n",
      "Some layers from the model checkpoint at distilbert-base-uncased were not used when initializing TFDistilBertForSequenceClassification: ['vocab_layer_norm', 'activation_13', 'vocab_projector', 'vocab_transform']\n",
      "- This IS expected if you are initializing TFDistilBertForSequenceClassification from the checkpoint of a model trained on another task or with another architecture (e.g. initializing a BertForSequenceClassification model from a BertForPreTraining model).\n",
      "- This IS NOT expected if you are initializing TFDistilBertForSequenceClassification from the checkpoint of a model that you expect to be exactly identical (initializing a BertForSequenceClassification model from a BertForSequenceClassification model).\n",
      "Some layers of TFDistilBertForSequenceClassification were not initialized from the model checkpoint at distilbert-base-uncased and are newly initialized: ['pre_classifier', 'dropout_216', 'classifier']\n",
      "You should probably TRAIN this model on a down-stream task to be able to use it for predictions and inference.\n",
      "Loading cached shuffled indices for dataset at /home/jl8831/.cache/huggingface/datasets/financial_phrasebank/sentences_allagree/1.0.0/550bde12e6c30e2674da973a55f57edde5181d53f5a5a34c1531c53f93b7e141/cache-42903ee15fefc06d.arrow\n",
      "Some layers from the model checkpoint at distilbert-base-uncased were not used when initializing TFDistilBertForSequenceClassification: ['vocab_layer_norm', 'activation_13', 'vocab_projector', 'vocab_transform']\n",
      "- This IS expected if you are initializing TFDistilBertForSequenceClassification from the checkpoint of a model trained on another task or with another architecture (e.g. initializing a BertForSequenceClassification model from a BertForPreTraining model).\n",
      "- This IS NOT expected if you are initializing TFDistilBertForSequenceClassification from the checkpoint of a model that you expect to be exactly identical (initializing a BertForSequenceClassification model from a BertForSequenceClassification model).\n",
      "Some layers of TFDistilBertForSequenceClassification were not initialized from the model checkpoint at distilbert-base-uncased and are newly initialized: ['dropout_236', 'pre_classifier', 'classifier']\n",
      "You should probably TRAIN this model on a down-stream task to be able to use it for predictions and inference.\n",
      "Loading cached shuffled indices for dataset at /home/jl8831/.cache/huggingface/datasets/financial_phrasebank/sentences_allagree/1.0.0/550bde12e6c30e2674da973a55f57edde5181d53f5a5a34c1531c53f93b7e141/cache-42903ee15fefc06d.arrow\n",
      "Some layers from the model checkpoint at distilbert-base-uncased were not used when initializing TFDistilBertForSequenceClassification: ['vocab_layer_norm', 'activation_13', 'vocab_projector', 'vocab_transform']\n",
      "- This IS expected if you are initializing TFDistilBertForSequenceClassification from the checkpoint of a model trained on another task or with another architecture (e.g. initializing a BertForSequenceClassification model from a BertForPreTraining model).\n",
      "- This IS NOT expected if you are initializing TFDistilBertForSequenceClassification from the checkpoint of a model that you expect to be exactly identical (initializing a BertForSequenceClassification model from a BertForSequenceClassification model).\n",
      "Some layers of TFDistilBertForSequenceClassification were not initialized from the model checkpoint at distilbert-base-uncased and are newly initialized: ['dropout_256', 'pre_classifier', 'classifier']\n",
      "You should probably TRAIN this model on a down-stream task to be able to use it for predictions and inference.\n"
     ]
    }
   ],
   "source": [
    "size_ft = [200, 100, 50, 25, 10]\n",
    "acc_ft = {}\n",
    "for i in size_ft:\n",
    "    shuffled_dataset = train_set.shuffle(seed=seed)\n",
    "    train_set_subset = shuffled_dataset.select(range(i))\n",
    "    train_list_subset = train_set_subset['sentence']\n",
    "    train_label_subset = train_set_subset['label']\n",
    "    val_list = val_set['sentence']\n",
    "    val_label = val_set['label']\n",
    "    test_list = test_set['sentence']\n",
    "    test_label = test_set['label']\n",
    "    checkpoint = \"distilbert-base-uncased\"\n",
    "    tokenizer = AutoTokenizer.from_pretrained(checkpoint)\n",
    "    train_input_subset, train_label_subset = tokenize_dataset(train_list_subset, train_label_subset, tokenizer)\n",
    "    val_input, val_label = tokenize_dataset(val_list, val_label, tokenizer)\n",
    "    test_input, test_label = tokenize_dataset(test_list, test_label, tokenizer)\n",
    "    train_input_resampled_subset, train_label_resampled_subset = oversampling_bert(train_input_subset, train_label_subset)\n",
    "    checkpoint = \"distilbert-base-uncased\"\n",
    "    bert_model_ft = TFAutoModelForSequenceClassification.from_pretrained(checkpoint, num_labels=3)\n",
    "    bert_model_ft.layers[0].trainable = False\n",
    "    bert_model_ft.compile(optimizer=tf.keras.optimizers.Adam(learning_rate=1e-4), \n",
    "                    loss = SparseCategoricalCrossentropy(from_logits=True), \n",
    "                    metrics=[\"accuracy\"]\n",
    "                )\n",
    "    bert_history_head_ft = train_bert_model(bert_model_ft, train_input_resampled_subset, train_label_resampled_subset,val_input,val_label, num_epochs=3, verbose_=False)\n",
    "    bert_model_ft.layers[0].trainable = True\n",
    "    bert_model_ft.compile(optimizer=tf.keras.optimizers.Adam(learning_rate=5e-5), \n",
    "                  loss = SparseCategoricalCrossentropy(from_logits=True), \n",
    "                  metrics=[\"accuracy\"]\n",
    "            )\n",
    "    bert_history_ft = train_bert_model(bert_model_ft, train_input_resampled_subset, train_label_resampled_subset,val_input,val_label, num_epochs=3,verbose_=False)\n",
    "    predictions_ft = bert_model_ft.predict(test_input,verbose=False)\n",
    "    logits = predictions_ft.logits\n",
    "    probabilities = scipy.special.softmax(logits, axis=1)\n",
    "    predicted_labels_ft = np.argmax(probabilities, axis=1)\n",
    "    accuracy_ft = accuracy_score(test_label, predicted_labels_ft)\n",
    "    acc_ft[i] = accuracy_ft\n",
    "    "
   ]
  },
  {
   "cell_type": "code",
   "execution_count": 111,
   "metadata": {},
   "outputs": [
    {
     "data": {
      "text/html": [
       "<div>\n",
       "<style scoped>\n",
       "    .dataframe tbody tr th:only-of-type {\n",
       "        vertical-align: middle;\n",
       "    }\n",
       "\n",
       "    .dataframe tbody tr th {\n",
       "        vertical-align: top;\n",
       "    }\n",
       "\n",
       "    .dataframe thead th {\n",
       "        text-align: right;\n",
       "    }\n",
       "</style>\n",
       "<table border=\"1\" class=\"dataframe\">\n",
       "  <thead>\n",
       "    <tr style=\"text-align: right;\">\n",
       "      <th></th>\n",
       "      <th>accuracy</th>\n",
       "    </tr>\n",
       "  </thead>\n",
       "  <tbody>\n",
       "    <tr>\n",
       "      <th>200</th>\n",
       "      <td>0.942605</td>\n",
       "    </tr>\n",
       "    <tr>\n",
       "      <th>100</th>\n",
       "      <td>0.916115</td>\n",
       "    </tr>\n",
       "    <tr>\n",
       "      <th>50</th>\n",
       "      <td>0.768212</td>\n",
       "    </tr>\n",
       "    <tr>\n",
       "      <th>25</th>\n",
       "      <td>0.750552</td>\n",
       "    </tr>\n",
       "    <tr>\n",
       "      <th>10</th>\n",
       "      <td>0.388521</td>\n",
       "    </tr>\n",
       "  </tbody>\n",
       "</table>\n",
       "</div>"
      ],
      "text/plain": [
       "     accuracy\n",
       "200  0.942605\n",
       "100  0.916115\n",
       "50   0.768212\n",
       "25   0.750552\n",
       "10   0.388521"
      ]
     },
     "execution_count": 111,
     "metadata": {},
     "output_type": "execute_result"
    }
   ],
   "source": [
    "acc_ft_df = pd.DataFrame(acc_ft,index=['accuracy']).T\n",
    "acc_ft_df"
   ]
  },
  {
   "cell_type": "markdown",
   "metadata": {},
   "source": [
    "As we observed in the dataframe, as we decrease the data size in the training, the accuracy drops. \\\n",
    "The turning point for accuracy to fall below a threshold of 80% is when training size is less than 100. \\\n",
    "Therefore, we might speculate that when fitting more than 100 training data to the distilbert model, it will gives us a satisfactory result."
   ]
  }
 ],
 "metadata": {
  "kernelspec": {
   "display_name": "Python 3 (ipykernel)",
   "language": "python",
   "name": "python3"
  },
  "language_info": {
   "codemirror_mode": {
    "name": "ipython",
    "version": 3
   },
   "file_extension": ".py",
   "mimetype": "text/x-python",
   "name": "python",
   "nbconvert_exporter": "python",
   "pygments_lexer": "ipython3",
   "version": "3.9.13"
  }
 },
 "nbformat": 4,
 "nbformat_minor": 4
}
